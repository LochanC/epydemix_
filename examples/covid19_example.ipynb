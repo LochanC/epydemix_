{
 "cells": [
  {
   "cell_type": "code",
   "execution_count": null,
   "metadata": {},
   "outputs": [],
   "source": [
    "import pandas as pd \n",
    "\n",
    "# Epydemix import\n",
    "import sys\n",
    "sys.path.append(\"../\")\n",
    "from epydemix.epimodel import EpiModel, simulate\n",
    "from epydemix.calibration import calibration_abc_smc\n",
    "from epydemix.metrics import wmape\n",
    "from epydemix.utils import compute_simulation_dates\n",
    "import numpy as np \n",
    "from scipy import stats \n",
    "import pyabc \n",
    "\n",
    "def compute_contact_reductions(mob_data, columns):\n",
    "    return pd.DataFrame(data={'date': mob_data.date, 'r': (1 + mob_data[columns].mean(axis=1) / 100)**2})"
   ]
  },
  {
   "cell_type": "code",
   "execution_count": null,
   "metadata": {},
   "outputs": [],
   "source": [
    "# import epidemic data \n",
    "epi_data = pd.read_csv(\"./data/london/epi-data/epi_data.csv\")\n",
    "\n",
    "# import google data and compute contacts reduction\n",
    "mob_data = pd.read_csv(f'./data/london/google-mobility-report/google_mobility_data.csv')\n",
    "mob_data = mob_data.loc[(mob_data.date >= epi_data.date.min()) & (mob_data.date <= epi_data.date.max())]\n",
    "contact_reductions = compute_contact_reductions(mob_data=mob_data, \n",
    "                                                columns=['retail_and_recreation_percent_change_from_baseline',\n",
    "                                                        'grocery_and_pharmacy_percent_change_from_baseline',\n",
    "                                                        'transit_stations_percent_change_from_baseline',\n",
    "                                                        'workplaces_percent_change_from_baseline',\n",
    "                                                        'residential_percent_change_from_baseline'])"
   ]
  },
  {
   "cell_type": "code",
   "execution_count": null,
   "metadata": {},
   "outputs": [],
   "source": [
    "# create model \n",
    "model = EpiModel(compartments=[\"S\", \"E\", \"I\", \"R\"], population_data_path=\"./data/london/\", population_name=\"London\", contact_layers=[\"all\"])\n",
    "model.add_parameter(parameters_dict={\"beta\": 0.04, \"mu\": 1. / 2.5, \"eps\": 1. / 4., \"r\": contact_reductions[\"r\"].values})\n",
    "model.add_transition(source=\"S\", target=\"E\", rate=\"beta*r\", agent=\"I\")\n",
    "model.add_transition(source=\"E\", target=\"I\", rate=\"eps\")\n",
    "model.add_transition(source=\"I\", target=\"R\", rate=\"mu\")"
   ]
  },
  {
   "cell_type": "code",
   "execution_count": 18,
   "metadata": {},
   "outputs": [
    {
     "ename": "KeyboardInterrupt",
     "evalue": "",
     "output_type": "error",
     "traceback": [
      "\u001b[0;31m---------------------------------------------------------------------------\u001b[0m",
      "\u001b[0;31mKeyboardInterrupt\u001b[0m                         Traceback (most recent call last)",
      "Cell \u001b[0;32mIn[18], line 45\u001b[0m\n\u001b[1;32m     41\u001b[0m simulation_dates \u001b[38;5;241m=\u001b[39m compute_simulation_dates(start_date\u001b[38;5;241m=\u001b[39mepi_data\u001b[38;5;241m.\u001b[39mdate\u001b[38;5;241m.\u001b[39mvalues[\u001b[38;5;241m0\u001b[39m], end_date\u001b[38;5;241m=\u001b[39mepi_data\u001b[38;5;241m.\u001b[39mdate\u001b[38;5;241m.\u001b[39mvalues[\u001b[38;5;241m-\u001b[39m\u001b[38;5;241m1\u001b[39m], steps\u001b[38;5;241m=\u001b[39m\u001b[38;5;124m\"\u001b[39m\u001b[38;5;124mdaily\u001b[39m\u001b[38;5;124m\"\u001b[39m)\n\u001b[1;32m     42\u001b[0m parameters \u001b[38;5;241m=\u001b[39m {\u001b[38;5;124m\"\u001b[39m\u001b[38;5;124mepimodel\u001b[39m\u001b[38;5;124m\"\u001b[39m: model, \n\u001b[1;32m     43\u001b[0m               \u001b[38;5;124m\"\u001b[39m\u001b[38;5;124msimulation_dates\u001b[39m\u001b[38;5;124m\"\u001b[39m: simulation_dates}\n\u001b[0;32m---> 45\u001b[0m results \u001b[38;5;241m=\u001b[39m \u001b[43mcalibration_abc_smc\u001b[49m\u001b[43m(\u001b[49m\u001b[43msimulation_function\u001b[49m\u001b[38;5;241;43m=\u001b[39;49m\u001b[43msimulate_wrapper\u001b[49m\u001b[43m,\u001b[49m\u001b[43m \u001b[49m\n\u001b[1;32m     46\u001b[0m \u001b[43m                              \u001b[49m\u001b[43mpriors\u001b[49m\u001b[38;5;241;43m=\u001b[39;49m\u001b[43mpriors\u001b[49m\u001b[43m,\u001b[49m\u001b[43m \u001b[49m\n\u001b[1;32m     47\u001b[0m \u001b[43m                              \u001b[49m\u001b[43mparameters\u001b[49m\u001b[38;5;241;43m=\u001b[39;49m\u001b[43mparameters\u001b[49m\u001b[43m,\u001b[49m\u001b[43m \u001b[49m\n\u001b[1;32m     48\u001b[0m \u001b[43m                              \u001b[49m\u001b[43mdata\u001b[49m\u001b[38;5;241;43m=\u001b[39;49m\u001b[43m{\u001b[49m\u001b[38;5;124;43m\"\u001b[39;49m\u001b[38;5;124;43mdata\u001b[39;49m\u001b[38;5;124;43m\"\u001b[39;49m\u001b[43m:\u001b[49m\u001b[43m \u001b[49m\u001b[43mepi_data\u001b[49m\u001b[43m[\u001b[49m\u001b[38;5;124;43m\"\u001b[39;49m\u001b[38;5;124;43mnew_deaths\u001b[39;49m\u001b[38;5;124;43m\"\u001b[39;49m\u001b[43m]\u001b[49m\u001b[38;5;241;43m.\u001b[39;49m\u001b[43mvalues\u001b[49m\u001b[43m}\u001b[49m\u001b[43m,\u001b[49m\u001b[43m  \u001b[49m\n\u001b[1;32m     49\u001b[0m \u001b[43m                              \u001b[49m\u001b[43mpopulation_size\u001b[49m\u001b[38;5;241;43m=\u001b[39;49m\u001b[38;5;241;43m100\u001b[39;49m\u001b[43m,\u001b[49m\u001b[43m \u001b[49m\n\u001b[1;32m     50\u001b[0m \u001b[43m                              \u001b[49m\u001b[43mmax_nr_populations\u001b[49m\u001b[38;5;241;43m=\u001b[39;49m\u001b[38;5;241;43m10\u001b[39;49m\u001b[43m,\u001b[49m\u001b[43m \u001b[49m\n\u001b[1;32m     51\u001b[0m \u001b[43m                              \u001b[49m\u001b[43mtransitions\u001b[49m\u001b[38;5;241;43m=\u001b[39;49m\u001b[43m \u001b[49m\u001b[43mpyabc\u001b[49m\u001b[38;5;241;43m.\u001b[39;49m\u001b[43mAggregatedTransition\u001b[49m\u001b[43m(\u001b[49m\n\u001b[1;32m     52\u001b[0m \u001b[43m                                                \u001b[49m\u001b[43mmapping\u001b[49m\u001b[38;5;241;43m=\u001b[39;49m\u001b[43m{\u001b[49m\u001b[38;5;124;43m'\u001b[39;49m\u001b[38;5;124;43mbeta\u001b[39;49m\u001b[38;5;124;43m'\u001b[39;49m\u001b[43m:\u001b[49m\u001b[43m \u001b[49m\u001b[43mpyabc\u001b[49m\u001b[38;5;241;43m.\u001b[39;49m\u001b[43mMultivariateNormalTransition\u001b[49m\u001b[43m(\u001b[49m\u001b[43m)\u001b[49m\u001b[43m,\u001b[49m\n\u001b[1;32m     53\u001b[0m \u001b[43m                                                         \u001b[49m\u001b[38;5;124;43m'\u001b[39;49m\u001b[38;5;124;43mI0\u001b[39;49m\u001b[38;5;124;43m'\u001b[39;49m\u001b[43m:\u001b[49m\u001b[43m \u001b[49m\u001b[43mpyabc\u001b[49m\u001b[38;5;241;43m.\u001b[39;49m\u001b[43mDiscreteJumpTransition\u001b[49m\u001b[43m(\u001b[49m\u001b[43mdomain\u001b[49m\u001b[38;5;241;43m=\u001b[39;49m\u001b[43mnp\u001b[49m\u001b[38;5;241;43m.\u001b[39;49m\u001b[43marange\u001b[49m\u001b[43m(\u001b[49m\u001b[38;5;241;43m10\u001b[39;49m\u001b[43m,\u001b[49m\u001b[43m \u001b[49m\u001b[38;5;241;43m10000\u001b[39;49m\u001b[43m)\u001b[49m\u001b[43m,\u001b[49m\u001b[43m \u001b[49m\u001b[43mp_stay\u001b[49m\u001b[38;5;241;43m=\u001b[39;49m\u001b[38;5;241;43m0.7\u001b[39;49m\u001b[43m)\u001b[49m\u001b[43m,\u001b[49m\n\u001b[1;32m     54\u001b[0m \u001b[43m                                                         \u001b[49m\u001b[38;5;124;43m'\u001b[39;49m\u001b[38;5;124;43mDelta\u001b[39;49m\u001b[38;5;124;43m'\u001b[39;49m\u001b[43m:\u001b[49m\u001b[43m \u001b[49m\u001b[43mpyabc\u001b[49m\u001b[38;5;241;43m.\u001b[39;49m\u001b[43mDiscreteJumpTransition\u001b[49m\u001b[43m(\u001b[49m\u001b[43mdomain\u001b[49m\u001b[38;5;241;43m=\u001b[39;49m\u001b[43mnp\u001b[49m\u001b[38;5;241;43m.\u001b[39;49m\u001b[43marange\u001b[49m\u001b[43m(\u001b[49m\u001b[38;5;241;43m7\u001b[39;49m\u001b[43m,\u001b[49m\u001b[43m \u001b[49m\u001b[38;5;241;43m28\u001b[39;49m\u001b[43m)\u001b[49m\u001b[43m,\u001b[49m\u001b[43m \u001b[49m\u001b[43mp_stay\u001b[49m\u001b[38;5;241;43m=\u001b[39;49m\u001b[38;5;241;43m0.7\u001b[39;49m\u001b[43m)\u001b[49m\u001b[43m}\u001b[49m\u001b[43m)\u001b[49m\u001b[43m)\u001b[49m\n",
      "File \u001b[0;32m~/Desktop/epydemix/epydemix/calibration.py:153\u001b[0m, in \u001b[0;36mcalibration_abc_smc\u001b[0;34m(simulation_function, priors, parameters, data, error_metric, transitions, max_walltime, population_size, minimum_epsilon, max_nr_populations, filename, include_quantiles, dates_column, run_id, db)\u001b[0m\n\u001b[1;32m    145\u001b[0m abc\u001b[38;5;241m.\u001b[39mnew(\u001b[38;5;124m\"\u001b[39m\u001b[38;5;124msqlite:///\u001b[39m\u001b[38;5;124m\"\u001b[39m \u001b[38;5;241m+\u001b[39m db_path, data)\n\u001b[1;32m    146\u001b[0m \u001b[38;5;66;03m#if db == None:\u001b[39;00m\n\u001b[1;32m    147\u001b[0m \u001b[38;5;66;03m#    db_path = os.path.join(f'./calibration_runs/{basin_name}/dbs/', f\"{filename}.db\")\u001b[39;00m\n\u001b[1;32m    148\u001b[0m \u001b[38;5;66;03m#    abc.new(\"sqlite:///\" + db_path, {\"data\": observations})\u001b[39;00m\n\u001b[1;32m    149\u001b[0m \n\u001b[1;32m    150\u001b[0m \u001b[38;5;66;03m#else:\u001b[39;00m\n\u001b[1;32m    151\u001b[0m \u001b[38;5;66;03m#    abc.load(db, run_id)\u001b[39;00m\n\u001b[0;32m--> 153\u001b[0m history \u001b[38;5;241m=\u001b[39m \u001b[43mabc\u001b[49m\u001b[38;5;241;43m.\u001b[39;49m\u001b[43mrun\u001b[49m\u001b[43m(\u001b[49m\u001b[43mminimum_epsilon\u001b[49m\u001b[38;5;241;43m=\u001b[39;49m\u001b[43mminimum_epsilon\u001b[49m\u001b[43m,\u001b[49m\u001b[43m \u001b[49m\n\u001b[1;32m    154\u001b[0m \u001b[43m                  \u001b[49m\u001b[43mmax_nr_populations\u001b[49m\u001b[38;5;241;43m=\u001b[39;49m\u001b[43mmax_nr_populations\u001b[49m\u001b[43m,\u001b[49m\n\u001b[1;32m    155\u001b[0m \u001b[43m                  \u001b[49m\u001b[43mmax_walltime\u001b[49m\u001b[38;5;241;43m=\u001b[39;49m\u001b[43mmax_walltime\u001b[49m\u001b[43m)\u001b[49m\n\u001b[1;32m    157\u001b[0m \u001b[38;5;66;03m# format output\u001b[39;00m\n\u001b[1;32m    158\u001b[0m results \u001b[38;5;241m=\u001b[39m CalibrationResults()\n",
      "File \u001b[0;32m/opt/anaconda3/lib/python3.8/site-packages/pyabc/inference/smc.py:62\u001b[0m, in \u001b[0;36mrun_cleanup.<locals>.wrapped_run\u001b[0;34m(self, *args, **kwargs)\u001b[0m\n\u001b[1;32m     59\u001b[0m \u001b[38;5;28;01mdef\u001b[39;00m \u001b[38;5;21mwrapped_run\u001b[39m(\u001b[38;5;28mself\u001b[39m: \u001b[38;5;124m\"\u001b[39m\u001b[38;5;124mABCSMC\u001b[39m\u001b[38;5;124m\"\u001b[39m, \u001b[38;5;241m*\u001b[39margs, \u001b[38;5;241m*\u001b[39m\u001b[38;5;241m*\u001b[39mkwargs):\n\u001b[1;32m     60\u001b[0m     \u001b[38;5;28;01mtry\u001b[39;00m:\n\u001b[1;32m     61\u001b[0m         \u001b[38;5;66;03m# the actual run\u001b[39;00m\n\u001b[0;32m---> 62\u001b[0m         ret \u001b[38;5;241m=\u001b[39m \u001b[43mrun\u001b[49m\u001b[43m(\u001b[49m\u001b[38;5;28;43mself\u001b[39;49m\u001b[43m,\u001b[49m\u001b[43m \u001b[49m\u001b[38;5;241;43m*\u001b[39;49m\u001b[43margs\u001b[49m\u001b[43m,\u001b[49m\u001b[43m \u001b[49m\u001b[38;5;241;43m*\u001b[39;49m\u001b[38;5;241;43m*\u001b[39;49m\u001b[43mkwargs\u001b[49m\u001b[43m)\u001b[49m\n\u001b[1;32m     63\u001b[0m     \u001b[38;5;28;01mfinally\u001b[39;00m:\n\u001b[1;32m     64\u001b[0m         \u001b[38;5;66;03m# close session and store end time\u001b[39;00m\n\u001b[1;32m     65\u001b[0m         \u001b[38;5;28mself\u001b[39m\u001b[38;5;241m.\u001b[39mhistory\u001b[38;5;241m.\u001b[39mdone(end_time\u001b[38;5;241m=\u001b[39mdatetime\u001b[38;5;241m.\u001b[39mnow())\n",
      "File \u001b[0;32m/opt/anaconda3/lib/python3.8/site-packages/pyabc/inference/smc.py:700\u001b[0m, in \u001b[0;36mABCSMC.run\u001b[0;34m(self, minimum_epsilon, max_nr_populations, min_acceptance_rate, max_total_nr_simulations, max_walltime, min_eps_diff)\u001b[0m\n\u001b[1;32m    697\u001b[0m t \u001b[38;5;241m=\u001b[39m t0\n\u001b[1;32m    698\u001b[0m \u001b[38;5;28;01mwhile\u001b[39;00m \u001b[38;5;28;01mTrue\u001b[39;00m:\n\u001b[1;32m    699\u001b[0m     \u001b[38;5;66;03m# perform one generation\u001b[39;00m\n\u001b[0;32m--> 700\u001b[0m     ret \u001b[38;5;241m=\u001b[39m \u001b[38;5;28;43mself\u001b[39;49m\u001b[38;5;241;43m.\u001b[39;49m\u001b[43mrun_generation\u001b[49m\u001b[43m(\u001b[49m\u001b[43mt\u001b[49m\u001b[38;5;241;43m=\u001b[39;49m\u001b[43mt\u001b[49m\u001b[43m)\u001b[49m\n\u001b[1;32m    702\u001b[0m     \u001b[38;5;66;03m# check whether to discontinue\u001b[39;00m\n\u001b[1;32m    703\u001b[0m     \u001b[38;5;28;01mif\u001b[39;00m \u001b[38;5;129;01mnot\u001b[39;00m ret[\u001b[38;5;124m\"\u001b[39m\u001b[38;5;124msuccessful\u001b[39m\u001b[38;5;124m\"\u001b[39m] \u001b[38;5;129;01mor\u001b[39;00m \u001b[38;5;28mself\u001b[39m\u001b[38;5;241m.\u001b[39mcheck_terminate(\n\u001b[1;32m    704\u001b[0m         t\u001b[38;5;241m=\u001b[39mt,\n\u001b[1;32m    705\u001b[0m         acceptance_rate\u001b[38;5;241m=\u001b[39mret[\u001b[38;5;124m\"\u001b[39m\u001b[38;5;124macceptance_rate\u001b[39m\u001b[38;5;124m\"\u001b[39m],\n\u001b[1;32m    706\u001b[0m     ):\n",
      "File \u001b[0;32m/opt/anaconda3/lib/python3.8/site-packages/pyabc/inference/smc.py:815\u001b[0m, in \u001b[0;36mABCSMC.run_generation\u001b[0;34m(self, t)\u001b[0m\n\u001b[1;32m    813\u001b[0m \u001b[38;5;66;03m# perform the sampling\u001b[39;00m\n\u001b[1;32m    814\u001b[0m logger\u001b[38;5;241m.\u001b[39mdebug(\u001b[38;5;124mf\u001b[39m\u001b[38;5;124m\"\u001b[39m\u001b[38;5;124mSubmitting population \u001b[39m\u001b[38;5;132;01m{\u001b[39;00mt\u001b[38;5;132;01m}\u001b[39;00m\u001b[38;5;124m.\u001b[39m\u001b[38;5;124m\"\u001b[39m)\n\u001b[0;32m--> 815\u001b[0m sample \u001b[38;5;241m=\u001b[39m \u001b[38;5;28;43mself\u001b[39;49m\u001b[38;5;241;43m.\u001b[39;49m\u001b[43msampler\u001b[49m\u001b[38;5;241;43m.\u001b[39;49m\u001b[43msample_until_n_accepted\u001b[49m\u001b[43m(\u001b[49m\n\u001b[1;32m    816\u001b[0m \u001b[43m    \u001b[49m\u001b[43mn\u001b[49m\u001b[38;5;241;43m=\u001b[39;49m\u001b[43mpop_size\u001b[49m\u001b[43m,\u001b[49m\n\u001b[1;32m    817\u001b[0m \u001b[43m    \u001b[49m\u001b[43msimulate_one\u001b[49m\u001b[38;5;241;43m=\u001b[39;49m\u001b[43msimulate_one\u001b[49m\u001b[43m,\u001b[49m\n\u001b[1;32m    818\u001b[0m \u001b[43m    \u001b[49m\u001b[43mt\u001b[49m\u001b[38;5;241;43m=\u001b[39;49m\u001b[43mt\u001b[49m\u001b[43m,\u001b[49m\n\u001b[1;32m    819\u001b[0m \u001b[43m    \u001b[49m\u001b[43mmax_eval\u001b[49m\u001b[38;5;241;43m=\u001b[39;49m\u001b[43mmax_eval\u001b[49m\u001b[43m,\u001b[49m\n\u001b[1;32m    820\u001b[0m \u001b[43m    \u001b[49m\u001b[43mana_vars\u001b[49m\u001b[38;5;241;43m=\u001b[39;49m\u001b[38;5;28;43mself\u001b[39;49m\u001b[38;5;241;43m.\u001b[39;49m\u001b[43m_vars\u001b[49m\u001b[43m(\u001b[49m\u001b[43mt\u001b[49m\u001b[38;5;241;43m=\u001b[39;49m\u001b[43mt\u001b[49m\u001b[43m)\u001b[49m\u001b[43m,\u001b[49m\n\u001b[1;32m    821\u001b[0m \u001b[43m\u001b[49m\u001b[43m)\u001b[49m\n\u001b[1;32m    823\u001b[0m \u001b[38;5;66;03m# check sample health\u001b[39;00m\n\u001b[1;32m    824\u001b[0m \u001b[38;5;28;01mif\u001b[39;00m \u001b[38;5;129;01mnot\u001b[39;00m sample\u001b[38;5;241m.\u001b[39mok:\n",
      "File \u001b[0;32m/opt/anaconda3/lib/python3.8/site-packages/pyabc/sampler/base.py:20\u001b[0m, in \u001b[0;36mwrap_sample.<locals>.sample_until_n_accepted\u001b[0;34m(self, n, simulate_one, t, **kwargs)\u001b[0m\n\u001b[1;32m     19\u001b[0m \u001b[38;5;28;01mdef\u001b[39;00m \u001b[38;5;21msample_until_n_accepted\u001b[39m(\u001b[38;5;28mself\u001b[39m, n, simulate_one, t, \u001b[38;5;241m*\u001b[39m\u001b[38;5;241m*\u001b[39mkwargs):\n\u001b[0;32m---> 20\u001b[0m     sample \u001b[38;5;241m=\u001b[39m \u001b[43mf\u001b[49m\u001b[43m(\u001b[49m\u001b[38;5;28;43mself\u001b[39;49m\u001b[43m,\u001b[49m\u001b[43m \u001b[49m\u001b[43mn\u001b[49m\u001b[43m,\u001b[49m\u001b[43m \u001b[49m\u001b[43msimulate_one\u001b[49m\u001b[43m,\u001b[49m\u001b[43m \u001b[49m\u001b[43mt\u001b[49m\u001b[43m,\u001b[49m\u001b[43m \u001b[49m\u001b[38;5;241;43m*\u001b[39;49m\u001b[38;5;241;43m*\u001b[39;49m\u001b[43mkwargs\u001b[49m\u001b[43m)\u001b[49m\n\u001b[1;32m     22\u001b[0m     \u001b[38;5;28;01mif\u001b[39;00m sample\u001b[38;5;241m.\u001b[39mn_accepted \u001b[38;5;241m!=\u001b[39m n \u001b[38;5;129;01mand\u001b[39;00m sample\u001b[38;5;241m.\u001b[39mok:\n\u001b[1;32m     23\u001b[0m         \u001b[38;5;66;03m# this should not happen if the sampler is configured correctly\u001b[39;00m\n\u001b[1;32m     24\u001b[0m         \u001b[38;5;28;01mraise\u001b[39;00m \u001b[38;5;167;01mAssertionError\u001b[39;00m(\n\u001b[1;32m     25\u001b[0m             \u001b[38;5;124mf\u001b[39m\u001b[38;5;124m\"\u001b[39m\u001b[38;5;124mExpected \u001b[39m\u001b[38;5;132;01m{\u001b[39;00mn\u001b[38;5;132;01m}\u001b[39;00m\u001b[38;5;124m but got \u001b[39m\u001b[38;5;132;01m{\u001b[39;00msample\u001b[38;5;241m.\u001b[39mn_accepted\u001b[38;5;132;01m}\u001b[39;00m\u001b[38;5;124m acceptances.\u001b[39m\u001b[38;5;124m\"\u001b[39m\n\u001b[1;32m     26\u001b[0m         )\n",
      "File \u001b[0;32m/opt/anaconda3/lib/python3.8/site-packages/pyabc/sampler/multicore_evaluation_parallel.py:132\u001b[0m, in \u001b[0;36mMulticoreEvalParallelSampler.sample_until_n_accepted\u001b[0;34m(self, n, simulate_one, t, max_eval, all_accepted, ana_vars)\u001b[0m\n\u001b[1;32m    126\u001b[0m processes \u001b[38;5;241m=\u001b[39m [\n\u001b[1;32m    127\u001b[0m     Process(target\u001b[38;5;241m=\u001b[39mwork, args\u001b[38;5;241m=\u001b[39margs, daemon\u001b[38;5;241m=\u001b[39m\u001b[38;5;28mself\u001b[39m\u001b[38;5;241m.\u001b[39mdaemon)\n\u001b[1;32m    128\u001b[0m     \u001b[38;5;28;01mfor\u001b[39;00m _ \u001b[38;5;129;01min\u001b[39;00m \u001b[38;5;28mrange\u001b[39m(\u001b[38;5;28mself\u001b[39m\u001b[38;5;241m.\u001b[39mn_procs)\n\u001b[1;32m    129\u001b[0m ]\n\u001b[1;32m    131\u001b[0m \u001b[38;5;28;01mfor\u001b[39;00m proc \u001b[38;5;129;01min\u001b[39;00m processes:\n\u001b[0;32m--> 132\u001b[0m     \u001b[43mproc\u001b[49m\u001b[38;5;241;43m.\u001b[39;49m\u001b[43mstart\u001b[49m\u001b[43m(\u001b[49m\u001b[43m)\u001b[49m\n\u001b[1;32m    134\u001b[0m id_results \u001b[38;5;241m=\u001b[39m []\n\u001b[1;32m    136\u001b[0m \u001b[38;5;66;03m# make sure all results are collected\u001b[39;00m\n\u001b[1;32m    137\u001b[0m \u001b[38;5;66;03m# and the queue is emptied to prevent deadlocks\u001b[39;00m\n",
      "File \u001b[0;32m/opt/anaconda3/lib/python3.8/multiprocessing/process.py:121\u001b[0m, in \u001b[0;36mBaseProcess.start\u001b[0;34m(self)\u001b[0m\n\u001b[1;32m    118\u001b[0m \u001b[38;5;28;01massert\u001b[39;00m \u001b[38;5;129;01mnot\u001b[39;00m _current_process\u001b[38;5;241m.\u001b[39m_config\u001b[38;5;241m.\u001b[39mget(\u001b[38;5;124m'\u001b[39m\u001b[38;5;124mdaemon\u001b[39m\u001b[38;5;124m'\u001b[39m), \\\n\u001b[1;32m    119\u001b[0m        \u001b[38;5;124m'\u001b[39m\u001b[38;5;124mdaemonic processes are not allowed to have children\u001b[39m\u001b[38;5;124m'\u001b[39m\n\u001b[1;32m    120\u001b[0m _cleanup()\n\u001b[0;32m--> 121\u001b[0m \u001b[38;5;28mself\u001b[39m\u001b[38;5;241m.\u001b[39m_popen \u001b[38;5;241m=\u001b[39m \u001b[38;5;28;43mself\u001b[39;49m\u001b[38;5;241;43m.\u001b[39;49m\u001b[43m_Popen\u001b[49m\u001b[43m(\u001b[49m\u001b[38;5;28;43mself\u001b[39;49m\u001b[43m)\u001b[49m\n\u001b[1;32m    122\u001b[0m \u001b[38;5;28mself\u001b[39m\u001b[38;5;241m.\u001b[39m_sentinel \u001b[38;5;241m=\u001b[39m \u001b[38;5;28mself\u001b[39m\u001b[38;5;241m.\u001b[39m_popen\u001b[38;5;241m.\u001b[39msentinel\n\u001b[1;32m    123\u001b[0m \u001b[38;5;66;03m# Avoid a refcycle if the target function holds an indirect\u001b[39;00m\n\u001b[1;32m    124\u001b[0m \u001b[38;5;66;03m# reference to the process object (see bpo-30775)\u001b[39;00m\n",
      "File \u001b[0;32m/opt/anaconda3/lib/python3.8/multiprocessing/context.py:224\u001b[0m, in \u001b[0;36mProcess._Popen\u001b[0;34m(process_obj)\u001b[0m\n\u001b[1;32m    222\u001b[0m \u001b[38;5;129m@staticmethod\u001b[39m\n\u001b[1;32m    223\u001b[0m \u001b[38;5;28;01mdef\u001b[39;00m \u001b[38;5;21m_Popen\u001b[39m(process_obj):\n\u001b[0;32m--> 224\u001b[0m     \u001b[38;5;28;01mreturn\u001b[39;00m \u001b[43m_default_context\u001b[49m\u001b[38;5;241;43m.\u001b[39;49m\u001b[43mget_context\u001b[49m\u001b[43m(\u001b[49m\u001b[43m)\u001b[49m\u001b[38;5;241;43m.\u001b[39;49m\u001b[43mProcess\u001b[49m\u001b[38;5;241;43m.\u001b[39;49m\u001b[43m_Popen\u001b[49m\u001b[43m(\u001b[49m\u001b[43mprocess_obj\u001b[49m\u001b[43m)\u001b[49m\n",
      "File \u001b[0;32m/opt/anaconda3/lib/python3.8/multiprocessing/context.py:284\u001b[0m, in \u001b[0;36mSpawnProcess._Popen\u001b[0;34m(process_obj)\u001b[0m\n\u001b[1;32m    281\u001b[0m \u001b[38;5;129m@staticmethod\u001b[39m\n\u001b[1;32m    282\u001b[0m \u001b[38;5;28;01mdef\u001b[39;00m \u001b[38;5;21m_Popen\u001b[39m(process_obj):\n\u001b[1;32m    283\u001b[0m     \u001b[38;5;28;01mfrom\u001b[39;00m \u001b[38;5;21;01m.\u001b[39;00m\u001b[38;5;21;01mpopen_spawn_posix\u001b[39;00m \u001b[38;5;28;01mimport\u001b[39;00m Popen\n\u001b[0;32m--> 284\u001b[0m     \u001b[38;5;28;01mreturn\u001b[39;00m \u001b[43mPopen\u001b[49m\u001b[43m(\u001b[49m\u001b[43mprocess_obj\u001b[49m\u001b[43m)\u001b[49m\n",
      "File \u001b[0;32m/opt/anaconda3/lib/python3.8/multiprocessing/popen_spawn_posix.py:32\u001b[0m, in \u001b[0;36mPopen.__init__\u001b[0;34m(self, process_obj)\u001b[0m\n\u001b[1;32m     30\u001b[0m \u001b[38;5;28;01mdef\u001b[39;00m \u001b[38;5;21m__init__\u001b[39m(\u001b[38;5;28mself\u001b[39m, process_obj):\n\u001b[1;32m     31\u001b[0m     \u001b[38;5;28mself\u001b[39m\u001b[38;5;241m.\u001b[39m_fds \u001b[38;5;241m=\u001b[39m []\n\u001b[0;32m---> 32\u001b[0m     \u001b[38;5;28;43msuper\u001b[39;49m\u001b[43m(\u001b[49m\u001b[43m)\u001b[49m\u001b[38;5;241;43m.\u001b[39;49m\u001b[38;5;21;43m__init__\u001b[39;49m\u001b[43m(\u001b[49m\u001b[43mprocess_obj\u001b[49m\u001b[43m)\u001b[49m\n",
      "File \u001b[0;32m/opt/anaconda3/lib/python3.8/multiprocessing/popen_fork.py:19\u001b[0m, in \u001b[0;36mPopen.__init__\u001b[0;34m(self, process_obj)\u001b[0m\n\u001b[1;32m     17\u001b[0m \u001b[38;5;28mself\u001b[39m\u001b[38;5;241m.\u001b[39mreturncode \u001b[38;5;241m=\u001b[39m \u001b[38;5;28;01mNone\u001b[39;00m\n\u001b[1;32m     18\u001b[0m \u001b[38;5;28mself\u001b[39m\u001b[38;5;241m.\u001b[39mfinalizer \u001b[38;5;241m=\u001b[39m \u001b[38;5;28;01mNone\u001b[39;00m\n\u001b[0;32m---> 19\u001b[0m \u001b[38;5;28;43mself\u001b[39;49m\u001b[38;5;241;43m.\u001b[39;49m\u001b[43m_launch\u001b[49m\u001b[43m(\u001b[49m\u001b[43mprocess_obj\u001b[49m\u001b[43m)\u001b[49m\n",
      "File \u001b[0;32m/opt/anaconda3/lib/python3.8/multiprocessing/popen_spawn_posix.py:62\u001b[0m, in \u001b[0;36mPopen._launch\u001b[0;34m(self, process_obj)\u001b[0m\n\u001b[1;32m     60\u001b[0m     \u001b[38;5;28mself\u001b[39m\u001b[38;5;241m.\u001b[39msentinel \u001b[38;5;241m=\u001b[39m parent_r\n\u001b[1;32m     61\u001b[0m     \u001b[38;5;28;01mwith\u001b[39;00m \u001b[38;5;28mopen\u001b[39m(parent_w, \u001b[38;5;124m'\u001b[39m\u001b[38;5;124mwb\u001b[39m\u001b[38;5;124m'\u001b[39m, closefd\u001b[38;5;241m=\u001b[39m\u001b[38;5;28;01mFalse\u001b[39;00m) \u001b[38;5;28;01mas\u001b[39;00m f:\n\u001b[0;32m---> 62\u001b[0m         \u001b[43mf\u001b[49m\u001b[38;5;241;43m.\u001b[39;49m\u001b[43mwrite\u001b[49m\u001b[43m(\u001b[49m\u001b[43mfp\u001b[49m\u001b[38;5;241;43m.\u001b[39;49m\u001b[43mgetbuffer\u001b[49m\u001b[43m(\u001b[49m\u001b[43m)\u001b[49m\u001b[43m)\u001b[49m\n\u001b[1;32m     63\u001b[0m \u001b[38;5;28;01mfinally\u001b[39;00m:\n\u001b[1;32m     64\u001b[0m     fds_to_close \u001b[38;5;241m=\u001b[39m []\n",
      "\u001b[0;31mKeyboardInterrupt\u001b[0m: "
     ]
    }
   ],
   "source": [
    "def custom_initial_conditions(epimodel, I0): \n",
    "    infected_by_age = np.random.multinomial(I0, epimodel.population.Nk / epimodel.population.Nk.sum())\n",
    "    return {\"S\": epimodel.population.Nk - infected_by_age, \n",
    "            \"E\": (infected_by_age / 2).astype(int),\n",
    "            \"I\": (infected_by_age / 2).astype(int)}\n",
    "\n",
    "\n",
    "def compute_deaths(simulation_output, \n",
    "                   Delta,\n",
    "                   IFR = [0.00161/100, 0.00695/100, 0.0309/100, 0.0309/100, 0.0844/100, \n",
    "                          0.161/100, 0.595/100, 1.93/100, 4.28/100, 7.80/100] , \n",
    "                   age_groups=['0-9', '10-19', '20-24', '25-29', '30-39', '40-49', '50-59',\n",
    "                               '60-69', '70-79', '80+']):\n",
    "    total_deaths = np.zeros(len(simulation_output[f\"R_total\"]))\n",
    "    for i, age in enumerate(age_groups): \n",
    "        new_recovered = np.concatenate(([0], np.diff(simulation_output[f\"R_{age}\"])))\n",
    "        deaths_age = np.random.binomial(new_recovered, IFR[i])\n",
    "        deaths_age_shifted = np.zeros_like(deaths_age)\n",
    "        deaths_age_shifted[Delta:] = deaths_age[:-Delta]\n",
    "        simulation_output[f\"deaths_{age}\"] = deaths_age_shifted\n",
    "        total_deaths += deaths_age_shifted\n",
    "    simulation_output[\"deaths_total\"] = total_deaths\n",
    "    return simulation_output\n",
    "\n",
    "\n",
    "def simulate_wrapper(parameters): \n",
    "    # custom initial conditions\n",
    "    initial_conditions = custom_initial_conditions(parameters[\"epimodel\"], parameters[\"I0\"])\n",
    "    parameters.update(initial_conditions)\n",
    "    # simulate\n",
    "    results = simulate(**parameters)\n",
    "    # compute deaths\n",
    "    results = compute_deaths(results, parameters[\"Delta\"])\n",
    "    results.update({\"data\": results[\"deaths_total\"]})\n",
    "    return results\n",
    "\n",
    "priors = {\"beta\": stats.uniform(0.04, 0.1 - 0.04), \n",
    "          \"Delta\": stats.randint(7, 28),\n",
    "          \"I0\": stats.randint(10, 10000)}\n",
    "\n",
    "simulation_dates = compute_simulation_dates(start_date=epi_data.date.values[0], end_date=epi_data.date.values[-1], steps=\"daily\")\n",
    "parameters = {\"epimodel\": model, \n",
    "              \"simulation_dates\": simulation_dates}\n",
    "\n",
    "results = calibration_abc_smc(simulation_function=simulate_wrapper, \n",
    "                              priors=priors, \n",
    "                              parameters=parameters, \n",
    "                              data={\"data\": epi_data[\"new_deaths\"].values},  \n",
    "                              population_size=100, \n",
    "                              max_nr_populations=10, \n",
    "                              transitions= pyabc.AggregatedTransition(\n",
    "                                                mapping={'beta': pyabc.MultivariateNormalTransition(),\n",
    "                                                         'I0': pyabc.DiscreteJumpTransition(domain=np.arange(10, 10000), p_stay=0.7),\n",
    "                                                         'Delta': pyabc.DiscreteJumpTransition(domain=np.arange(7, 28), p_stay=0.7)}))\n",
    "\n"
   ]
  },
  {
   "cell_type": "code",
   "execution_count": null,
   "metadata": {},
   "outputs": [],
   "source": [
    "rho = np.linalg.eigvals(model.population.contact_matrices[\"all\"]).real.max()"
   ]
  },
  {
   "cell_type": "code",
   "execution_count": null,
   "metadata": {},
   "outputs": [],
   "source": [
    "mu = 1 / 2.5\n",
    "beta = 0.1\n",
    "beta * rho / mu"
   ]
  },
  {
   "cell_type": "code",
   "execution_count": null,
   "metadata": {},
   "outputs": [],
   "source": [
    "beta = 0.04"
   ]
  },
  {
   "cell_type": "code",
   "execution_count": null,
   "metadata": {},
   "outputs": [],
   "source": []
  },
  {
   "cell_type": "code",
   "execution_count": null,
   "metadata": {},
   "outputs": [],
   "source": [
    "results = simulate_wrapper(parameters={\"epimodel\": model, \n",
    "                             \"simulation_dates\": simulation_dates, \n",
    "                             \"I0\": 1000, 'Delta': 10})\n",
    "\n",
    "results[\"data\"].shape"
   ]
  },
  {
   "cell_type": "code",
   "execution_count": null,
   "metadata": {},
   "outputs": [],
   "source": [
    "epi_data[\"new_deaths\"].values.shape"
   ]
  },
  {
   "cell_type": "code",
   "execution_count": null,
   "metadata": {},
   "outputs": [],
   "source": []
  }
 ],
 "metadata": {
  "kernelspec": {
   "display_name": "base",
   "language": "python",
   "name": "python3"
  },
  "language_info": {
   "codemirror_mode": {
    "name": "ipython",
    "version": 3
   },
   "file_extension": ".py",
   "mimetype": "text/x-python",
   "name": "python",
   "nbconvert_exporter": "python",
   "pygments_lexer": "ipython3",
   "version": "3.8.8"
  }
 },
 "nbformat": 4,
 "nbformat_minor": 2
}
