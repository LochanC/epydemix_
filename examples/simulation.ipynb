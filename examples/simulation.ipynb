{
 "cells": [
  {
   "cell_type": "code",
   "execution_count": 1,
   "metadata": {},
   "outputs": [],
   "source": [
    "import numpy as np \n",
    "import pandas as pd\n",
    "import matplotlib.pyplot as plt\n",
    "\n",
    "# Epydemix import\n",
    "import sys\n",
    "sys.path.append(\"../\")\n",
    "from epydemix.population import Population\n",
    "from epydemix.epimodel import EpiModel\n",
    "from epydemix.plotting import plot_quantiles, plot_spectral_radius"
   ]
  },
  {
   "cell_type": "markdown",
   "metadata": {},
   "source": [
    "# EpiModel Object\n",
    "\n",
    "The ```EpiModel``` object is the core of the ```epydemix``` simulation module. With ```EpiModel``` objects we can define flexible epidemic model and then simulate them. Before creating the first ```EpiModel``` we need to create a ```Population``` object, which is needed for the simulation"
   ]
  },
  {
   "cell_type": "code",
   "execution_count": null,
   "metadata": {},
   "outputs": [],
   "source": [
    "population = Population() \n",
    "population.load_population(population_name=\"Indonesia\", path_to_data=\"../epydemix_data/\")"
   ]
  },
  {
   "cell_type": "markdown",
   "metadata": {},
   "source": [
    "We can now define the ```EpiModel``` object. This requires three simple steps: \n",
    "- Definition of compartments\n",
    "- Definition of model parameters\n",
    "- Definition of transitions\n",
    "\n",
    "\n",
    "Parameters can also be defined before compartments, while transitions must be defined after the definition of compartments, otherwise this will raise an error. Let's see how this works in practive by creating a simple SIR model:"
   ]
  },
  {
   "cell_type": "code",
   "execution_count": null,
   "metadata": {},
   "outputs": [],
   "source": [
    "# create model \n",
    "model = EpiModel(compartments=[\"S\", \"R\"])\n",
    "\n",
    "# compartments can be also added after the first init call\n",
    "model.add_compartments(\"I\")\n",
    "\n",
    "# define parameters\n",
    "model.add_parameter(name=\"beta\", value=0.04)\n",
    "model.add_parameter(name=\"mu\", value=0.2)\n",
    "\n",
    "# add transitions \n",
    "model.add_transition(source=\"S\", target=\"I\", rate_name=\"beta\", agent=\"I\")\n",
    "model.add_transition(source=\"I\", target=\"R\", rate_name=\"mu\")"
   ]
  },
  {
   "cell_type": "markdown",
   "metadata": {},
   "source": [
    "In more details: \n",
    "- compartments are string identifying the name of the compartment. They can be added when creating the ```EpiModel``` object of afterwards using the ```add_compartments``` method (which takes as input both single and list of compartments)\n",
    "\n",
    "- parameters are represented as a dictionary whose keys (values) are the names (values) of the parameters. They can be added when creating the ```EpiModel``` object of afterwards using the ```add_parameters``` method, which takes as input a dictionary. The dictionary can contain single or multiple parameters. \n",
    "\n",
    "- transitions are represented as ```Transition``` objects and they have the following attributes: \n",
    "    - source: the name of the source compartment of the transition\n",
    "    - target: the name of the target compartment of the transition\n",
    "    - rate_name: the expression of the rate of the transition\n",
    "    - agent: the name of the compartment which catalyzes the transition (in case of spontaneous transitions it is set to None)\n",
    "\n",
    "\n",
    "TODO: MORE DETAILS ON THE SIMULATION (STOCHASTIC, CHAIN BINOMIALS)\n",
    "\n",
    "We are now ready to run our first simulation. To do so, we will need to specify the population object, start and end date of the simulation, the initial conditions for each compartment, the number of steps for each simulation, and thet total number of stochastic simulations (default is 100): \n"
   ]
  },
  {
   "cell_type": "code",
   "execution_count": null,
   "metadata": {},
   "outputs": [],
   "source": [
    "results = model.simulate(population=population, \n",
    "                         start_date=\"2019-12-01\", \n",
    "                         end_date=\"2020-04-01\", \n",
    "                         S=population.Nk - np.ones(len(population.Nk)),\n",
    "                         I=np.ones(len(population.Nk)),\n",
    "                         R=np.zeros(len(population.Nk)),\n",
    "                         steps=\"daily\", \n",
    "                         Nsim=100)"
   ]
  },
  {
   "cell_type": "markdown",
   "metadata": {},
   "source": [
    "We can plot the output:"
   ]
  },
  {
   "cell_type": "code",
   "execution_count": null,
   "metadata": {},
   "outputs": [],
   "source": [
    "plot_quantiles(results, columns=[\"I_total\", \"S_total\", \"R_total\"])"
   ]
  },
  {
   "cell_type": "markdown",
   "metadata": {},
   "source": [
    "# Parameter Overrides"
   ]
  },
  {
   "cell_type": "code",
   "execution_count": null,
   "metadata": {},
   "outputs": [],
   "source": [
    "model.override_parameter(start_date=\"2020-01-15\", end_date=\"2020-04-01\", name=\"beta\", value=0.08)\n",
    "model.override_parameter(start_date=\"2020-02-01\", end_date=\"2020-04-01\", name=\"mu\", value=0.1)\n",
    "\n",
    "\n",
    "results = model.simulate(population=population, \n",
    "                         start_date=\"2019-12-01\", \n",
    "                         end_date=\"2020-04-01\", \n",
    "                         S=population.Nk - np.ones(len(population.Nk)),\n",
    "                         I=np.ones(len(population.Nk)),\n",
    "                         R=np.zeros(len(population.Nk)),\n",
    "                         steps=\"daily\", \n",
    "                         Nsim=100)\n",
    "\n",
    "plot_quantiles(results, columns=[\"I_total\", \"S_total\", \"R_total\"])"
   ]
  },
  {
   "cell_type": "markdown",
   "metadata": {},
   "source": [
    "# Modeling Interventions"
   ]
  },
  {
   "cell_type": "markdown",
   "metadata": {},
   "source": [
    "With ```EpiModel```, we can also model the impact of interventions aimed at reducing or changing the pattern of contacts. To do so, we need to define the set of interventions before calling the ```simulate``` function.\n",
    "\n",
    "Interventions can be defined using the ```add_intervention``` method, which takes the following parameters:\n",
    "\n",
    "- ```layer_name```: The name of the contacts layer to which the intervention is applied (e.g., 'work', 'school').\n",
    "- ```start_date```: The start date of the intervention.\n",
    "- ```end_date```: The end date of the intervention.\n",
    "- ```reduction_factor```: A float determining the reduction factor of contacts in the specified contact layer. For example, ```reduction_factor=0.3``` implies a 70% reduction in contacts.\n",
    "- ```new_matrix```: Instead of applying a reduction factor to all contacts in the contact layer, you can pass a new contact matrix to be used during the intervention period.\n",
    "\n",
    "In the following example, we add two interventions, one to the work contact layer, from 2020-01-01 to 2020-05-01 implying an overall 70% reduction in contacts, and one to the school contact layer from 2019-12-01 to 2020-06-01 implying a 55% reduction in contacts in this layer."
   ]
  },
  {
   "cell_type": "code",
   "execution_count": null,
   "metadata": {},
   "outputs": [],
   "source": [
    "# add interventions by using a multplying factor\n",
    "model.add_intervention(layer_name=\"work\", start_date=\"2020-01-01\", end_date=\"2020-02-01\", reduction_factor=0.3, name=\"remote work\")\n",
    "model.add_intervention(layer_name=\"school\", start_date=\"2020-02-15\", end_date=\"2020-03-15\", reduction_factor=0.45, name=\"school closure\")"
   ]
  },
  {
   "cell_type": "markdown",
   "metadata": {},
   "source": [
    "We also add a third intervention where instead of using a multplying factor, we consider a new matrix from 2020-01-01 to 2020-03-01 for the community layer."
   ]
  },
  {
   "cell_type": "code",
   "execution_count": null,
   "metadata": {},
   "outputs": [],
   "source": [
    "# add interventions by changing the contact matrix\n",
    "comm_matrix = population.contact_matrices[\"community\"].copy()\n",
    "comm_matrix[6:] = 0\n",
    "model.add_intervention(layer_name=\"community\", start_date=\"2020-03-20\", end_date=\"2020-04-01\", new_matrix=comm_matrix, name=\"ban indoor contacts\")"
   ]
  },
  {
   "cell_type": "markdown",
   "metadata": {},
   "source": [
    "We can plot the impact of interventions on the spectral radius of the overall contact matrix:"
   ]
  },
  {
   "cell_type": "code",
   "execution_count": null,
   "metadata": {},
   "outputs": [],
   "source": [
    "# first we need to compute contacts matrices over time with interventions\n",
    "simulation_dates = pd.date_range(start=\"2019-12-01\", end=\"2020-04-01\", freq=\"d\").tolist()\n",
    "model.compute_contact_reductions(population, simulation_dates)\n",
    "\n",
    "# then we plot the evolution of the spectral radius, referenced to the initial value as % change\n",
    "plot_spectral_radius(model)"
   ]
  },
  {
   "cell_type": "markdown",
   "metadata": {},
   "source": [
    "Finally we simulate the model with interventions added and we plot results:"
   ]
  },
  {
   "cell_type": "code",
   "execution_count": null,
   "metadata": {},
   "outputs": [],
   "source": [
    "results_interventions = model.simulate(population=population, \n",
    "                         start_date=\"2019-12-01\", \n",
    "                         end_date=\"2020-04-01\", \n",
    "                         S=population.Nk - np.ones(len(population.Nk)),\n",
    "                         I=np.ones(len(population.Nk)),\n",
    "                         R=np.zeros(len(population.Nk)),\n",
    "                         steps=\"daily\", \n",
    "                         Nsim=100)"
   ]
  },
  {
   "cell_type": "markdown",
   "metadata": {},
   "source": [
    "We plot the results of the simulation with and without intervention:"
   ]
  },
  {
   "cell_type": "code",
   "execution_count": null,
   "metadata": {},
   "outputs": [],
   "source": [
    "fig, ax = plt.subplots(dpi=300)\n",
    "plot_quantiles(results, columns=\"I_total\", ax=ax, colors=\"dodgerblue\", labels=\"I, no interventions\")\n",
    "plot_quantiles(results_interventions, columns=\"I_total\", ax=ax, colors=\"deeppink\", labels=\"I, interventions\")\n",
    "fig.autofmt_xdate()"
   ]
  },
  {
   "cell_type": "markdown",
   "metadata": {},
   "source": [
    "We can also plot the number of infected over time in specific age groups, for example 0 to 4 and 5 to 9:"
   ]
  },
  {
   "cell_type": "code",
   "execution_count": null,
   "metadata": {},
   "outputs": [],
   "source": [
    "plot_quantiles(results, columns=[\"I_0-4\", \"I_5-9\"])"
   ]
  },
  {
   "cell_type": "markdown",
   "metadata": {},
   "source": [
    "# More Complex Compartmentalization Structures"
   ]
  },
  {
   "cell_type": "markdown",
   "metadata": {},
   "source": [
    "The EpiModel object allows to create complex comparmental models. For example, we consider here a SEIR-like model with two different virus strains:\n",
    "\n",
    "\n",
    "<div>\n",
    "<img src=\"./img/two_strains_SEIR.svg\" width=\"500\"/>\n",
    "</div>\n",
    "\n",
    "Strain 2 has the same latent and infectious period, but a different transmission rate. In particular: \n",
    "\n",
    "$$\\beta_2 = \\beta_1 * \\psi$$\n",
    "\n",
    "Where $\\psi$ indicates the increased transmissibility of Strain 2. In EpiModel, you can use symbolic expressions for rates, which is particularly useful for composite expressions like this."
   ]
  },
  {
   "cell_type": "code",
   "execution_count": null,
   "metadata": {},
   "outputs": [],
   "source": [
    "# create model \n",
    "model = EpiModel(compartments=[\"S\", \"E1\", \"E2\", \"I1\", \"I2\", \"R1\", \"R2\"])\n",
    "\n",
    "# define parameters\n",
    "model.add_parameters({\"bet\": 0.04, \"mu\": 0.2, \"psi\": 1.2, \"eps\": 0.25})\n",
    "\n",
    "# add transitions \n",
    "model.add_transition(source=\"S\", target=\"E1\", rate_name=\"bet\", agent=\"I1\")\n",
    "model.add_transition(source=\"S\", target=\"E2\", rate_name=\"bet*psi\", agent=\"I2\")\n",
    "model.add_transition(source=\"E1\", target=\"I1\", rate_name=\"eps\")\n",
    "model.add_transition(source=\"E2\", target=\"I2\", rate_name=\"eps\")\n",
    "model.add_transition(source=\"I1\", target=\"R1\", rate_name=\"mu\")\n",
    "model.add_transition(source=\"I2\", target=\"R2\", rate_name=\"mu\")"
   ]
  },
  {
   "cell_type": "code",
   "execution_count": null,
   "metadata": {},
   "outputs": [],
   "source": [
    "results = model.simulate(population=population, \n",
    "                         start_date=\"2019-12-01\", \n",
    "                         end_date=\"2020-05-01\", \n",
    "                         S=population.Nk - 2 * np.ones(len(population.Nk)),\n",
    "                         I1=np.ones(len(population.Nk)),\n",
    "                         E1=np.ones(len(population.Nk)),\n",
    "                         R1=np.zeros(len(population.Nk)),\n",
    "                         I2=np.ones(len(population.Nk)),\n",
    "                         E2=np.ones(len(population.Nk)),\n",
    "                         R2=np.zeros(len(population.Nk)),\n",
    "                         steps=\"daily\", \n",
    "                         Nsim=100)"
   ]
  },
  {
   "cell_type": "code",
   "execution_count": null,
   "metadata": {},
   "outputs": [],
   "source": [
    "plot_quantiles(results, columns=[\"I1_total\", \"I2_total\"])"
   ]
  },
  {
   "cell_type": "code",
   "execution_count": null,
   "metadata": {},
   "outputs": [],
   "source": []
  }
 ],
 "metadata": {
  "kernelspec": {
   "display_name": "base",
   "language": "python",
   "name": "python3"
  },
  "language_info": {
   "codemirror_mode": {
    "name": "ipython",
    "version": 3
   },
   "file_extension": ".py",
   "mimetype": "text/x-python",
   "name": "python",
   "nbconvert_exporter": "python",
   "pygments_lexer": "ipython3",
   "version": "3.8.8"
  }
 },
 "nbformat": 4,
 "nbformat_minor": 2
}
