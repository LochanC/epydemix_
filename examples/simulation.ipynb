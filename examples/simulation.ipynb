{
 "cells": [
  {
   "cell_type": "code",
   "execution_count": 2,
   "metadata": {},
   "outputs": [],
   "source": [
    "from scipy import stats \n",
    "import numpy as np \n",
    "import pandas as pd\n",
    "import matplotlib.pyplot as plt\n",
    "from datetime import datetime, timedelta\n",
    "\n",
    "# Epydemix import\n",
    "import sys\n",
    "sys.path.append(\"../\")\n",
    "from epydemix.population import Population\n",
    "from epydemix.epimodel import EpiModel, stochastic_simulation\n",
    "from epydemix.plotting import plot_quantiles, plot_selected_quantiles, plot_posterior, plot_posterior_2d\n",
    "from epydemix.calibration import calibration_top_perc"
   ]
  },
  {
   "cell_type": "markdown",
   "metadata": {},
   "source": [
    "# EpiModel Object\n",
    "\n",
    "The ```EpiModel``` object is the core of the ```epydemix``` simulation module. With ```EpiModel``` objects we can define flexible epidemic model and then simulate them. Before creating the first ```EpiModel``` we need to create a ```Population``` object, which is needed for the simulation"
   ]
  },
  {
   "cell_type": "code",
   "execution_count": 3,
   "metadata": {},
   "outputs": [],
   "source": [
    "population = Population() \n",
    "population.load_population(population_name=\"Indonesia\", path_to_data=\"../epydemix_data/\")"
   ]
  },
  {
   "cell_type": "markdown",
   "metadata": {},
   "source": [
    "We can now define the ```EpiModel``` object. This requires three simple steps: \n",
    "- Definition of compartments\n",
    "- Definition of model parameters\n",
    "- Definition of transitions\n",
    "\n",
    "\n",
    "Parameters can also be defined before compartments, while transitions must be defined after the definition of compartments, otherwise this will raise an error. Let's see how this works in practive by creating a simple SIR model:"
   ]
  },
  {
   "cell_type": "code",
   "execution_count": 5,
   "metadata": {},
   "outputs": [],
   "source": [
    "# create model \n",
    "model = EpiModel(compartments=[\"S\", \"R\"])\n",
    "\n",
    "# compartments can be also added after the first init call\n",
    "model.add_compartments(\"I\")\n",
    "\n",
    "# define parameters\n",
    "model.add_parameters({\"bet\": 0.04, \"mu\": 0.1})\n",
    "\n",
    "# add transitions \n",
    "model.add_transition(source=\"S\", target=\"I\", rate_name=\"bet\", agent=\"I\")\n",
    "model.add_transition(source=\"I\", target=\"R\", rate_name=\"mu\")"
   ]
  },
  {
   "cell_type": "markdown",
   "metadata": {},
   "source": [
    "In more details: \n",
    "- compartments are string identifying the name of the compartment. They can be added when creating the ```EpiModel``` object of afterwards using the ```add_compartments``` method (which takes as input both single and list of compartments)\n",
    "\n",
    "- parameters are represented as a dictionary whose keys (values) are the names (values) of the parameters. They can be added when creating the ```EpiModel``` object of afterwards using the ```add_parameters``` method, which takes as input a dictionary. The dictionary can contain single or multiple parameters. \n",
    "\n",
    "- transitions are represented as ```Transition``` objects and they have the following attributes: \n",
    "    - source: the name of the source compartment of the transition\n",
    "    - target: the name of the target compartment of the transition\n",
    "    - rate_name: the expression of the rate of the transition\n",
    "    - agent: the name of the compartment which catalyzes the transition (in case of spontaneous transitions it is set to None)\n",
    "\n",
    "Important Note: some parameter names, such as ```beta``` and ```gamma``` cannot be used. This is because ```rate_name``` are evaluated as composite expressions using ```sympy```, and some names may be in conflict with this python package. This is done to allow for transitions that have composite expressions for the rate (more details below)."
   ]
  },
  {
   "cell_type": "markdown",
   "metadata": {},
   "source": []
  }
 ],
 "metadata": {
  "kernelspec": {
   "display_name": "base",
   "language": "python",
   "name": "python3"
  },
  "language_info": {
   "codemirror_mode": {
    "name": "ipython",
    "version": 3
   },
   "file_extension": ".py",
   "mimetype": "text/x-python",
   "name": "python",
   "nbconvert_exporter": "python",
   "pygments_lexer": "ipython3",
   "version": "3.8.8"
  }
 },
 "nbformat": 4,
 "nbformat_minor": 2
}
