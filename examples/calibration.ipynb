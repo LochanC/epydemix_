{
 "cells": [
  {
   "cell_type": "code",
   "execution_count": null,
   "metadata": {},
   "outputs": [],
   "source": [
    "from scipy import stats \n",
    "import numpy as np \n",
    "import pandas as pd\n",
    "import matplotlib.pyplot as plt\n",
    "from datetime import datetime, timedelta\n",
    "\n",
    "# Epydemix import\n",
    "import sys \n",
    "sys.path.append(\"../\")\n",
    "from epydemix.population import Population\n",
    "from epydemix.epimodel import EpiModel, stochastic_simulation\n",
    "from epydemix.plotting import plot_quantiles, plot_selected_quantiles, plot_posterior, plot_posterior_2d\n",
    "from epydemix.calibration import calibration_top_perc, calibration_abc_smc"
   ]
  },
  {
   "cell_type": "markdown",
   "metadata": {},
   "source": [
    "# Calibration"
   ]
  },
  {
   "cell_type": "markdown",
   "metadata": {},
   "source": [
    "Import population data:"
   ]
  },
  {
   "cell_type": "code",
   "execution_count": null,
   "metadata": {},
   "outputs": [],
   "source": [
    "population = Population() \n",
    "population.load_population(population_name=\"Indonesia\", path_to_data=\"../epydemix_data/\")"
   ]
  },
  {
   "cell_type": "markdown",
   "metadata": {},
   "source": [
    "Import epidemiological data:"
   ]
  },
  {
   "cell_type": "code",
   "execution_count": null,
   "metadata": {},
   "outputs": [],
   "source": [
    "df_I = pd.read_csv(\"./data/data_I.csv\")\n",
    "df_I.head()"
   ]
  },
  {
   "cell_type": "code",
   "execution_count": null,
   "metadata": {},
   "outputs": [],
   "source": [
    "# create model \n",
    "model = EpiModel(compartments=[\"S\", \"I\", \"R\"])\n",
    "model.add_parameters({\"bet\": 0.02, \"mu\": 0.2})\n",
    "model.add_transition(source=\"S\", target=\"I\", rate_name=\"bet\", agent=\"I\")\n",
    "model.add_transition(source=\"I\", target=\"R\", rate_name=\"mu\")\n",
    "\n",
    "# initial conditions\n",
    "S=population.Nk - np.ones(len(population.Nk))\n",
    "I=np.ones(len(population.Nk))\n",
    "R=np.zeros(len(population.Nk))\n",
    "\n",
    "# simulation dates\n",
    "steps = \"daily\"\n",
    "start_date=df_I.date.values[0]\n",
    "end_date=df_I.date.values[-1]\n",
    "start_date, end_date = pd.to_datetime(start_date), pd.to_datetime(end_date)\n",
    "simulation_dates = pd.date_range(start=start_date, end=end_date, freq=\"d\").tolist()\n",
    "model.compute_contact_reductions(population, simulation_dates)\n",
    "\n",
    "# parameters\n",
    "parameters = {\"Cs\": model.Cs, \n",
    "              \"Nk\": population.Nk, \n",
    "              \"S\": S, \n",
    "              \"I\": I, \n",
    "              \"R\": R, \n",
    "              \"epimodel\": model, \n",
    "              \"dt\": np.diff(simulation_dates)[0] / timedelta(days=1),\n",
    "              \"population\": population, \n",
    "              \"simulation_dates\": simulation_dates}\n",
    "parameters.update(model.parameters)"
   ]
  },
  {
   "cell_type": "code",
   "execution_count": null,
   "metadata": {},
   "outputs": [],
   "source": [
    "def post_processing_function(results, **parameters): \n",
    "    results.update({\"data\": results[\"I_total\"]})\n",
    "    return results\n",
    "\n",
    "results = calibration_top_perc(simulation_function=stochastic_simulation, \n",
    "                               parameters=parameters,\n",
    "                               priors={\"bet\": stats.uniform(0.015, 0.025), \n",
    "                                       \"mu\": stats.uniform(0.15, 0.25)}, \n",
    "                               data={\"data\": df_I[\"I\"].values},\n",
    "                               top_perc=0.05,\n",
    "                               Nsim=1000,\n",
    "                               post_processing_function=post_processing_function)"
   ]
  },
  {
   "cell_type": "code",
   "execution_count": null,
   "metadata": {},
   "outputs": [],
   "source": [
    "plot_selected_quantiles(results, ylabel=\"I_total\")"
   ]
  },
  {
   "cell_type": "code",
   "execution_count": null,
   "metadata": {},
   "outputs": [],
   "source": [
    "plot_posterior(results, \"bet\", kind=\"kde\", prior_range=False, xlabel=\"$\\\\beta$\")\n",
    "plot_posterior(results, \"mu\", kind=\"kde\", prior_range=False, xlabel=\"$\\\\mu$\")"
   ]
  },
  {
   "cell_type": "code",
   "execution_count": null,
   "metadata": {},
   "outputs": [],
   "source": [
    "plot_posterior_2d(results, \"bet\", \"mu\", kind=\"kde\", prior_range=False, xlabel=\"$\\\\beta$\", ylabel=\"$\\\\mu$\")"
   ]
  },
  {
   "cell_type": "markdown",
   "metadata": {},
   "source": [
    "# Incidence example"
   ]
  },
  {
   "cell_type": "code",
   "execution_count": null,
   "metadata": {},
   "outputs": [],
   "source": [
    "df_incidence = pd.read_csv(\"./data/data_incidence.csv\")\n",
    "df_incidence.head()"
   ]
  },
  {
   "cell_type": "code",
   "execution_count": null,
   "metadata": {},
   "outputs": [],
   "source": [
    "def post_processing_function(results, **parameters): \n",
    "    results.update({\"data\": np.concatenate(([0], (np.abs(np.diff(results[\"S_total\"])))))})\n",
    "    return results\n",
    "\n",
    "results = calibration_top_perc(simulation_function=stochastic_simulation, \n",
    "                               parameters=parameters,\n",
    "                               priors={\"bet\": stats.uniform(0.015, 0.025), \n",
    "                                       \"mu\": stats.uniform(0.15, 0.25)}, \n",
    "                               data={\"data\": df_incidence[\"incidence\"].values},\n",
    "                               top_perc=0.05,\n",
    "                               Nsim=1000,\n",
    "                               post_processing_function=post_processing_function)"
   ]
  },
  {
   "cell_type": "code",
   "execution_count": null,
   "metadata": {},
   "outputs": [],
   "source": [
    "plot_selected_quantiles(results, ylabel=\"incidence\")"
   ]
  },
  {
   "cell_type": "code",
   "execution_count": null,
   "metadata": {},
   "outputs": [],
   "source": [
    "plot_posterior(results, \"bet\", kind=\"kde\", prior_range=False, xlabel=\"$\\\\beta$\")\n",
    "plot_posterior(results, \"mu\", kind=\"kde\", prior_range=False, xlabel=\"$\\\\mu$\")"
   ]
  },
  {
   "cell_type": "code",
   "execution_count": null,
   "metadata": {},
   "outputs": [],
   "source": [
    "plot_posterior_2d(results, \"bet\", \"mu\", kind=\"kde\", prior_range=False, xlabel=\"$\\\\beta$\", ylabel=\"$\\\\mu$\")"
   ]
  },
  {
   "cell_type": "markdown",
   "metadata": {},
   "source": [
    "## ABC-SMC"
   ]
  },
  {
   "cell_type": "code",
   "execution_count": null,
   "metadata": {},
   "outputs": [],
   "source": []
  }
 ],
 "metadata": {
  "kernelspec": {
   "display_name": "base",
   "language": "python",
   "name": "python3"
  },
  "language_info": {
   "codemirror_mode": {
    "name": "ipython",
    "version": 3
   },
   "file_extension": ".py",
   "mimetype": "text/x-python",
   "name": "python",
   "nbconvert_exporter": "python",
   "pygments_lexer": "ipython3",
   "version": "3.8.8"
  }
 },
 "nbformat": 4,
 "nbformat_minor": 2
}
