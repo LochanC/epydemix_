{
 "cells": [
  {
   "cell_type": "code",
   "execution_count": null,
   "metadata": {},
   "outputs": [],
   "source": [
    "from scipy import stats \n",
    "import numpy as np \n",
    "import pandas as pd\n",
    "import matplotlib.pyplot as plt\n",
    "from datetime import datetime, timedelta\n",
    "\n",
    "# Epydemix import\n",
    "import sys \n",
    "sys.path.append(\"../\")\n",
    "from epydemix.epimodel import EpiModel, simulate\n",
    "from epydemix.plotting import plot_quantiles, plot_selected_quantiles, plot_posterior, plot_posterior_2d\n",
    "from epydemix.calibration import calibration_top_perc, calibration_abc_smc\n",
    "from epydemix.utils import compute_simulation_dates"
   ]
  },
  {
   "cell_type": "markdown",
   "metadata": {},
   "source": [
    "# Calibration\n",
    "\n",
    "```epydemix``` currently supports three calibration methods: \n",
    "- ```calibration_top_perc```: this methods run a number of simulations and retain the top x%. This is the simpliest method, that allows to get results in the minimum amount of time, since the total number of simulations is set by the user\n",
    "- ```calibration_rejection``` (not yet implemented): this method implement the simple rejection algorithm.\n",
    "- ```calibration_abc_smc```: this is the most sophisticated method which implements the ABC-SMC algorithm. This method allows to achieve more accurate results, but it is more computationally expensive.\n",
    "\n",
    "We import epidemiological data on which we want to calibrate the model. In particular we have two dataset: \n",
    "- data_I.csv: here the quantity of intereset is the number of individuals infectious at each time step (prevalence)\n",
    "\n",
    "- data_incidence.csv: here the quantity of intereset is the number of new individuals infectious at each time step (incidence)\n",
    "\n",
    "We use these two examples to show the flexibility of pur package to different type of data for calibration."
   ]
  },
  {
   "cell_type": "code",
   "execution_count": null,
   "metadata": {},
   "outputs": [],
   "source": [
    "df_I = pd.read_csv(\"./data/data_I.csv\")\n",
    "df_incidence = pd.read_csv(\"./data/data_incidence.csv\")"
   ]
  },
  {
   "cell_type": "markdown",
   "metadata": {},
   "source": [
    "We first define model and priors, this step is common to all calibration methods:"
   ]
  },
  {
   "cell_type": "code",
   "execution_count": null,
   "metadata": {},
   "outputs": [],
   "source": [
    "# create model \n",
    "model = EpiModel(compartments=[\"S\", \"I\", \"R\"], population_data_path=\"../epydemix_data/Indonesia/\", population_name=\"Indonesia\")\n",
    "model.add_parameter(parameters_dict={\"beta\": 0.04, \"mu\": 0.2})\n",
    "model.add_transition(source=\"S\", target=\"I\", rate=\"beta\", agent=\"I\")\n",
    "model.add_transition(source=\"I\", target=\"R\", rate=\"mu\")\n",
    "\n",
    "# initial conditions\n",
    "S=model.population.Nk - np.ones(len(model.population.Nk))\n",
    "I=np.ones(len(model.population.Nk))\n",
    "\n",
    "# simulation dates and compute contacts \n",
    "simulation_dates = compute_simulation_dates(start_date=df_I.date.values[0], end_date=df_I.date.values[-1], steps=\"daily\")\n",
    "\n",
    "# parameters\n",
    "parameters = {\"S\": S, \n",
    "              \"I\": I, \n",
    "              \"epimodel\": model, \n",
    "              \"simulation_dates\": simulation_dates}\n",
    "\n",
    "# priors\n",
    "priors = {\"beta\": stats.uniform(0.015, 0.025), \"mu\": stats.uniform(0.15, 0.25)}"
   ]
  },
  {
   "cell_type": "markdown",
   "metadata": {},
   "source": [
    "## Top % Calibration"
   ]
  },
  {
   "cell_type": "code",
   "execution_count": null,
   "metadata": {},
   "outputs": [],
   "source": [
    "def simulate_wrapper(parameters): \n",
    "    results = simulate(**parameters)\n",
    "    results.update({\"data\": results[\"I_total\"]})\n",
    "    return results\n",
    "\n",
    "results = calibration_top_perc(simulate_wrapper, \n",
    "                               parameters=parameters,\n",
    "                               priors=priors, \n",
    "                               data={\"data\": df_I[\"I\"].values},\n",
    "                               top_perc=0.05,\n",
    "                               Nsim=1000)"
   ]
  },
  {
   "cell_type": "code",
   "execution_count": null,
   "metadata": {},
   "outputs": [],
   "source": [
    "plot_selected_quantiles(results, ylabel=\"I_total\")"
   ]
  },
  {
   "cell_type": "code",
   "execution_count": null,
   "metadata": {},
   "outputs": [],
   "source": [
    "plot_posterior(results, \"beta\", kind=\"kde\", prior_range=False, xlabel=\"$\\\\beta$\")\n",
    "plot_posterior(results, \"mu\", kind=\"kde\", prior_range=False, xlabel=\"$\\\\mu$\")"
   ]
  },
  {
   "cell_type": "code",
   "execution_count": null,
   "metadata": {},
   "outputs": [],
   "source": [
    "plot_posterior_2d(results, \"beta\", \"mu\", kind=\"kde\", prior_range=False, xlabel=\"$\\\\beta$\", ylabel=\"$\\\\mu$\")"
   ]
  },
  {
   "cell_type": "markdown",
   "metadata": {},
   "source": [
    "### Incidence Example"
   ]
  },
  {
   "cell_type": "code",
   "execution_count": null,
   "metadata": {},
   "outputs": [],
   "source": [
    "def simulate_wrapper(parameters): \n",
    "    results = simulate(**parameters)\n",
    "    results.update({\"data\": np.concatenate(([0], (np.abs(np.diff(results[\"S_total\"])))))})\n",
    "    return results\n",
    "\n",
    "results = calibration_top_perc(simulation_function=simulate_wrapper, \n",
    "                               parameters=parameters,\n",
    "                               priors=priors, \n",
    "                               data={\"data\": df_incidence[\"incidence\"].values},\n",
    "                               top_perc=0.05,\n",
    "                               Nsim=1000)"
   ]
  },
  {
   "cell_type": "code",
   "execution_count": null,
   "metadata": {},
   "outputs": [],
   "source": [
    "plot_selected_quantiles(results, ylabel=\"incidence\")"
   ]
  },
  {
   "cell_type": "code",
   "execution_count": null,
   "metadata": {},
   "outputs": [],
   "source": [
    "plot_posterior(results, \"beta\", kind=\"kde\", prior_range=False, xlabel=\"$\\\\beta$\")\n",
    "plot_posterior(results, \"mu\", kind=\"kde\", prior_range=False, xlabel=\"$\\\\mu$\")"
   ]
  },
  {
   "cell_type": "code",
   "execution_count": null,
   "metadata": {},
   "outputs": [],
   "source": [
    "plot_posterior_2d(results, \"beta\", \"mu\", kind=\"kde\", prior_range=False, xlabel=\"$\\\\beta$\", ylabel=\"$\\\\mu$\")"
   ]
  },
  {
   "cell_type": "markdown",
   "metadata": {},
   "source": [
    "## ABC-SMC"
   ]
  },
  {
   "cell_type": "code",
   "execution_count": null,
   "metadata": {},
   "outputs": [],
   "source": [
    "def simulate_wrapper(parameters): \n",
    "    results = simulate(**parameters)\n",
    "    results.update({\"data\": np.concatenate(([0], (np.abs(np.diff(results[\"S_total\"])))))})\n",
    "    return results\n",
    "\n",
    "results = calibration_abc_smc(simulation_function=simulate_wrapper, \n",
    "                              priors=priors, \n",
    "                              parameters=parameters, \n",
    "                              data={\"data\": df_incidence[\"incidence\"].values},  \n",
    "                              population_size=50, \n",
    "                              max_nr_populations=4)"
   ]
  },
  {
   "cell_type": "code",
   "execution_count": null,
   "metadata": {},
   "outputs": [],
   "source": [
    "plot_selected_quantiles(results, ylabel=\"incidence\")"
   ]
  },
  {
   "cell_type": "code",
   "execution_count": null,
   "metadata": {},
   "outputs": [],
   "source": [
    "plot_posterior(results, \"beta\", kind=\"kde\", prior_range=False, xlabel=\"$\\\\beta$\")\n",
    "plot_posterior(results, \"mu\", kind=\"kde\", prior_range=False, xlabel=\"$\\\\mu$\")"
   ]
  },
  {
   "cell_type": "code",
   "execution_count": null,
   "metadata": {},
   "outputs": [],
   "source": [
    "plot_posterior_2d(results, \"beta\", \"mu\", kind=\"kde\", prior_range=False, xlabel=\"$\\\\beta$\", ylabel=\"$\\\\mu$\")"
   ]
  },
  {
   "cell_type": "markdown",
   "metadata": {},
   "source": [
    "# Calibrating your own model"
   ]
  },
  {
   "cell_type": "code",
   "execution_count": null,
   "metadata": {},
   "outputs": [],
   "source": [
    "from models.custom_models import my_stochastic_SIR\n",
    "\n",
    "parameters = {\n",
    "    'S': 273523000 - 10,\n",
    "    'I': 10,\n",
    "    'R': 0,\n",
    "    'N': 273523000,\n",
    "    'simulation_dates': simulation_dates,\n",
    "    'dt': 1.0}\n",
    "\n",
    "# priors\n",
    "priors = {\"beta\": stats.uniform(0.15, 0.35), \"mu\": stats.uniform(0.15, 0.15)}"
   ]
  },
  {
   "cell_type": "code",
   "execution_count": null,
   "metadata": {},
   "outputs": [],
   "source": [
    "results = calibration_top_perc(simulation_function=my_stochastic_SIR, \n",
    "                               parameters=parameters,\n",
    "                               priors=priors, \n",
    "                               data={\"data\": df_incidence[\"incidence\"].values},\n",
    "                               top_perc=0.05,\n",
    "                               Nsim=10000)"
   ]
  },
  {
   "cell_type": "code",
   "execution_count": null,
   "metadata": {},
   "outputs": [],
   "source": [
    "plot_selected_quantiles(results, ylabel=\"incidence\")"
   ]
  },
  {
   "cell_type": "markdown",
   "metadata": {},
   "source": [
    "# Running Projections"
   ]
  },
  {
   "cell_type": "code",
   "execution_count": null,
   "metadata": {},
   "outputs": [],
   "source": [
    "#results\n",
    "# run projections\n",
    "\n",
    "#iterations = 100\n",
    "\n",
    "#start_date, end_date = pd.to_datetime(start_date), pd.to_datetime(end_date)\n",
    "#simulation_dates = pd.date_range(start=start_date, end=end_date, freq=\"d\").tolist()\n",
    "#model.compute_contact_reductions(population, simulation_dates)\n"
   ]
  },
  {
   "cell_type": "code",
   "execution_count": null,
   "metadata": {},
   "outputs": [],
   "source": []
  }
 ],
 "metadata": {
  "kernelspec": {
   "display_name": "base",
   "language": "python",
   "name": "python3"
  },
  "language_info": {
   "codemirror_mode": {
    "name": "ipython",
    "version": 3
   },
   "file_extension": ".py",
   "mimetype": "text/x-python",
   "name": "python",
   "nbconvert_exporter": "python",
   "pygments_lexer": "ipython3",
   "version": "3.8.8"
  }
 },
 "nbformat": 4,
 "nbformat_minor": 2
}
