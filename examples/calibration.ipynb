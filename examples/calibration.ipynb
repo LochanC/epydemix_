{
 "cells": [
  {
   "cell_type": "code",
   "execution_count": 1,
   "metadata": {},
   "outputs": [],
   "source": [
    "from scipy import stats \n",
    "import numpy as np \n",
    "import pandas as pd\n",
    "import matplotlib.pyplot as plt\n",
    "from datetime import datetime, timedelta\n",
    "\n",
    "# Epydemix import\n",
    "import sys \n",
    "sys.path.append(\"../\")\n",
    "from epydemix.epimodel import EpiModel, simulate\n",
    "from epydemix.plotting import plot_error_distribution, plot_selected_quantiles, plot_posterior, plot_posterior_2d\n",
    "from epydemix.calibration import calibration_top_perc, calibration_abc_smc_old, calibration_abc_smc\n",
    "from epydemix.utils import compute_simulation_dates"
   ]
  },
  {
   "cell_type": "markdown",
   "metadata": {},
   "source": [
    "# Calibration\n",
    "\n",
    "```epydemix``` currently supports three calibration methods: \n",
    "- ```calibration_top_perc```: this methods run a number of simulations and retain the top x%. This is the simpliest method, that allows to get results in the minimum amount of time, since the total number of simulations is set by the user\n",
    "- ```calibration_rejection``` (not yet implemented): this method implement the simple rejection algorithm.\n",
    "- ```calibration_abc_smc```: this is the most sophisticated method which implements the ABC-SMC algorithm. This method allows to achieve more accurate results, but it is more computationally expensive.\n",
    "\n",
    "We import epidemiological data on which we want to calibrate the model. In particular we have two dataset: \n",
    "- data_I.csv: here the quantity of intereset is the number of individuals infectious at each time step (prevalence)\n",
    "\n",
    "- data_incidence.csv: here the quantity of intereset is the number of new individuals infectious at each time step (incidence)\n",
    "\n",
    "We use these two examples to show the flexibility of pur package to different type of data for calibration."
   ]
  },
  {
   "cell_type": "code",
   "execution_count": 2,
   "metadata": {},
   "outputs": [],
   "source": [
    "df_I = pd.read_csv(\"./data/data_I.csv\")\n",
    "df_incidence = pd.read_csv(\"./data/data_incidence.csv\")"
   ]
  },
  {
   "cell_type": "markdown",
   "metadata": {},
   "source": [
    "We first define model and priors, this step is common to all calibration methods:"
   ]
  },
  {
   "cell_type": "code",
   "execution_count": 3,
   "metadata": {},
   "outputs": [],
   "source": [
    "# create model \n",
    "model = EpiModel(compartments=[\"S\", \"I\", \"R\"], population_data_path=\"../epydemix_data/Indonesia/\", population_name=\"Indonesia\")\n",
    "model.add_parameter(parameters_dict={\"beta\": 0.04, \"mu\": 0.2})\n",
    "model.add_transition(source=\"S\", target=\"I\", rate=\"beta\", agent=\"I\")\n",
    "model.add_transition(source=\"I\", target=\"R\", rate=\"mu\")\n",
    "\n",
    "# initial conditions\n",
    "S = model.population.Nk - np.ones(len(model.population.Nk))\n",
    "I = np.ones(len(model.population.Nk))\n",
    "\n",
    "# simulation dates and compute contacts \n",
    "simulation_dates = compute_simulation_dates(start_date=df_I.date.values[0], end_date=df_I.date.values[-1], steps=\"daily\")\n",
    "\n",
    "# parameters\n",
    "parameters = {\"S\": S, \n",
    "              \"I\": I, \n",
    "              \"epimodel\": model, \n",
    "              \"simulation_dates\": simulation_dates}\n",
    "\n",
    "# priors\n",
    "priors = {\"beta\": stats.uniform(0.015, 0.025), \"mu\": stats.uniform(0.15, 0.25)}"
   ]
  },
  {
   "cell_type": "markdown",
   "metadata": {},
   "source": [
    "## Top % Calibration"
   ]
  },
  {
   "cell_type": "code",
   "execution_count": null,
   "metadata": {},
   "outputs": [],
   "source": [
    "def simulate_wrapper(parameters): \n",
    "    results = simulate(**parameters)\n",
    "    results.update({\"data\": results[\"I_total\"]})\n",
    "    return results\n",
    "\n",
    "results = calibration_top_perc(simulate_wrapper, \n",
    "                               parameters=parameters,\n",
    "                               priors=priors, \n",
    "                               data={\"data\": df_I[\"I\"].values},\n",
    "                               top_perc=0.05,\n",
    "                               Nsim=1000)"
   ]
  },
  {
   "cell_type": "code",
   "execution_count": null,
   "metadata": {},
   "outputs": [],
   "source": [
    "plot_selected_quantiles(results, ylabel=\"I_total\")"
   ]
  },
  {
   "cell_type": "code",
   "execution_count": null,
   "metadata": {},
   "outputs": [],
   "source": [
    "plot_posterior(results, \"beta\", kind=\"kde\", prior_range=False, xlabel=\"$\\\\beta$\")\n",
    "plot_posterior(results, \"mu\", kind=\"kde\", prior_range=False, xlabel=\"$\\\\mu$\")"
   ]
  },
  {
   "cell_type": "code",
   "execution_count": null,
   "metadata": {},
   "outputs": [],
   "source": [
    "plot_posterior_2d(results, \"beta\", \"mu\", kind=\"kde\", prior_range=False, xlabel=\"$\\\\beta$\", ylabel=\"$\\\\mu$\")"
   ]
  },
  {
   "cell_type": "code",
   "execution_count": null,
   "metadata": {},
   "outputs": [],
   "source": [
    "plot_error_distribution(results, kind=\"hist\", xlabel=\"error metric\")"
   ]
  },
  {
   "cell_type": "markdown",
   "metadata": {},
   "source": [
    "### Incidence Example"
   ]
  },
  {
   "cell_type": "code",
   "execution_count": null,
   "metadata": {},
   "outputs": [],
   "source": [
    "def simulate_wrapper(parameters): \n",
    "    results = simulate(**parameters)\n",
    "    results.update({\"data\": np.concatenate(([0], (np.abs(np.diff(results[\"S_total\"])))))})\n",
    "    return results\n",
    "\n",
    "results = calibration_top_perc(simulation_function=simulate_wrapper, \n",
    "                               parameters=parameters,\n",
    "                               priors=priors, \n",
    "                               data={\"data\": df_incidence[\"incidence\"].values},\n",
    "                               top_perc=0.05,\n",
    "                               Nsim=1000)"
   ]
  },
  {
   "cell_type": "code",
   "execution_count": null,
   "metadata": {},
   "outputs": [],
   "source": [
    "plot_selected_quantiles(results, ylabel=\"incidence\")"
   ]
  },
  {
   "cell_type": "code",
   "execution_count": null,
   "metadata": {},
   "outputs": [],
   "source": [
    "plot_posterior(results, \"beta\", kind=\"kde\", prior_range=False, xlabel=\"$\\\\beta$\")\n",
    "plot_posterior(results, \"mu\", kind=\"kde\", prior_range=False, xlabel=\"$\\\\mu$\")"
   ]
  },
  {
   "cell_type": "code",
   "execution_count": null,
   "metadata": {},
   "outputs": [],
   "source": [
    "plot_posterior_2d(results, \"beta\", \"mu\", kind=\"kde\", prior_range=False, xlabel=\"$\\\\beta$\", ylabel=\"$\\\\mu$\")"
   ]
  },
  {
   "cell_type": "markdown",
   "metadata": {},
   "source": [
    "## ABC-SMC"
   ]
  },
  {
   "cell_type": "code",
   "execution_count": null,
   "metadata": {},
   "outputs": [],
   "source": [
    "def simulate_wrapper(parameters): \n",
    "    results = simulate(**parameters)\n",
    "    results.update({\"data\": np.concatenate(([0], (np.abs(np.diff(results[\"S_total\"])))))})\n",
    "    return results\n",
    "\n",
    "results = calibration_abc_smc_old(simulation_function=simulate_wrapper, \n",
    "                              priors=priors, \n",
    "                              parameters=parameters, \n",
    "                              data={\"data\": df_incidence[\"incidence\"].values},  \n",
    "                              population_size=50, \n",
    "                              max_nr_populations=4)"
   ]
  },
  {
   "cell_type": "code",
   "execution_count": null,
   "metadata": {},
   "outputs": [],
   "source": [
    "plot_selected_quantiles(results, ylabel=\"incidence\")"
   ]
  },
  {
   "cell_type": "code",
   "execution_count": null,
   "metadata": {},
   "outputs": [],
   "source": [
    "plot_posterior(results, \"beta\", kind=\"kde\", prior_range=False, xlabel=\"$\\\\beta$\")\n",
    "plot_posterior(results, \"mu\", kind=\"kde\", prior_range=False, xlabel=\"$\\\\mu$\")"
   ]
  },
  {
   "cell_type": "code",
   "execution_count": null,
   "metadata": {},
   "outputs": [],
   "source": [
    "plot_posterior_2d(results, \"beta\", \"mu\", kind=\"kde\", prior_range=False, xlabel=\"$\\\\beta$\", ylabel=\"$\\\\mu$\")"
   ]
  },
  {
   "cell_type": "code",
   "execution_count": null,
   "metadata": {},
   "outputs": [],
   "source": [
    "plot_error_distribution(results, kind=\"hist\", xlabel=\"error metric\")"
   ]
  },
  {
   "cell_type": "markdown",
   "metadata": {},
   "source": [
    "# Custom ABC-SMC"
   ]
  },
  {
   "cell_type": "code",
   "execution_count": 4,
   "metadata": {},
   "outputs": [
    {
     "name": "stdout",
     "output_type": "stream",
     "text": [
      "Generation 1: Tolerance = 2856300.8140684105, Accepted Particles = 50/50, Time = 0:00:03.966796, ESS = 46.813709177944816\n",
      "Generation 2: Tolerance = 2498007.7420067554, Accepted Particles = 50/93, Time = 0:00:06.867247, ESS = 45.27183031292699\n",
      "Generation 3: Tolerance = 1104378.7008304512, Accepted Particles = 50/168, Time = 0:00:12.418074, ESS = 48.84367951387517\n",
      "Generation 4: Tolerance = 743320.8966358623, Accepted Particles = 50/131, Time = 0:00:09.652896, ESS = 48.63033776095266\n"
     ]
    }
   ],
   "source": [
    "def simulate_wrapper(parameters): \n",
    "    results = simulate(**parameters)\n",
    "    results.update({\"data\": np.concatenate(([0], (np.abs(np.diff(results[\"S_total\"])))))})\n",
    "    return results\n",
    "\n",
    "results = calibration_abc_smc(model=simulate_wrapper, \n",
    "                              priors=priors, \n",
    "                              parameters=parameters, \n",
    "                              observed_data={\"data\": df_incidence[\"incidence\"].values},\n",
    "                              num_particles=50, \n",
    "                              max_generations=4)"
   ]
  },
  {
   "cell_type": "code",
   "execution_count": null,
   "metadata": {},
   "outputs": [],
   "source": [
    "plot_selected_quantiles(results, ylabel=\"incidence\")"
   ]
  },
  {
   "cell_type": "code",
   "execution_count": null,
   "metadata": {},
   "outputs": [],
   "source": [
    "plot_posterior_2d(results, \"beta\", \"mu\", kind=\"kde\", prior_range=False, xlabel=\"$\\\\beta$\", ylabel=\"$\\\\mu$\")"
   ]
  },
  {
   "cell_type": "code",
   "execution_count": null,
   "metadata": {},
   "outputs": [],
   "source": [
    "def simulate_wrapper(parameters): \n",
    "    results = simulate(**parameters)\n",
    "    results.update({\"data\": np.concatenate(([0], (np.abs(np.diff(results[\"S_total\"])))))})\n",
    "    results[\"data\"] = np.roll(results[\"data\"], parameters[\"Delta\"])\n",
    "    results[\"data\"][:10] = 0\n",
    "    return results\n",
    "\n",
    "priors = {\"beta\": stats.uniform(0.015, 0.025), \"mu\": stats.uniform(0.15, 0.25), \"Delta\": stats.randint(0, 10)}\n",
    "results = calibration_abc_smc(model=simulate_wrapper, \n",
    "                              priors=priors, \n",
    "                              parameters=parameters, \n",
    "                              observed_data={\"data\": df_incidence[\"incidence\"].values},\n",
    "                              num_particles=50, \n",
    "                              max_generations=4)"
   ]
  },
  {
   "cell_type": "code",
   "execution_count": null,
   "metadata": {},
   "outputs": [],
   "source": [
    "plot_selected_quantiles(results, ylabel=\"incidence\")"
   ]
  },
  {
   "cell_type": "code",
   "execution_count": null,
   "metadata": {},
   "outputs": [],
   "source": [
    "plot_posterior_2d(results, \"beta\", \"mu\", kind=\"kde\", prior_range=False, xlabel=\"$\\\\beta$\", ylabel=\"$\\\\mu$\")"
   ]
  },
  {
   "cell_type": "code",
   "execution_count": null,
   "metadata": {},
   "outputs": [],
   "source": [
    "plot_posterior(results, \"Delta\", kind=\"kde\", prior_range=False, xlabel=\"$\\\\Delta$\") "
   ]
  },
  {
   "cell_type": "code",
   "execution_count": null,
   "metadata": {},
   "outputs": [],
   "source": []
  },
  {
   "cell_type": "code",
   "execution_count": null,
   "metadata": {},
   "outputs": [],
   "source": []
  },
  {
   "cell_type": "markdown",
   "metadata": {},
   "source": [
    "# Custom Initial Conditions "
   ]
  },
  {
   "cell_type": "code",
   "execution_count": null,
   "metadata": {},
   "outputs": [],
   "source": [
    "def custom_initial_conditions(epimodel, i0_perc): \n",
    "    initial_infected = int(np.sum(epimodel.population.Nk) * i0_perc)\n",
    "    infected_by_age = np.random.multinomial(initial_infected, epimodel.population.Nk / epimodel.population.Nk.sum())\n",
    "    return {\"S\": epimodel.population.Nk - infected_by_age, \n",
    "            \"I\": infected_by_age}\n",
    "\n",
    "def simulate_wrapper(parameters): \n",
    "\n",
    "    # compute custom initial conditions \n",
    "    initial_conditions = custom_initial_conditions(parameters[\"epimodel\"], parameters[\"i0_perc\"])\n",
    "    parameters.update(initial_conditions)\n",
    "    \n",
    "    results = simulate(**parameters)\n",
    "    results.update({\"data\": np.concatenate(([0], (np.abs(np.diff(results[\"S_total\"])))))})\n",
    "    return results\n",
    "\n",
    "\n",
    "results = calibration_abc_smc(simulation_function=simulate_wrapper, \n",
    "                              priors={\"beta\": stats.uniform(0.015, 0.025), \n",
    "                                      \"mu\": stats.uniform(0.15, 0.25), \n",
    "                                      \"i0_perc\": stats.uniform(0.0001, 0.01)}, \n",
    "                              parameters=parameters, \n",
    "                              data={\"data\": df_incidence[\"incidence\"].values},  \n",
    "                              population_size=50, \n",
    "                              max_nr_populations=4)"
   ]
  },
  {
   "cell_type": "code",
   "execution_count": null,
   "metadata": {},
   "outputs": [],
   "source": [
    "plot_selected_quantiles(results, ylabel=\"I_total\")"
   ]
  },
  {
   "cell_type": "code",
   "execution_count": null,
   "metadata": {},
   "outputs": [],
   "source": [
    "plot_posterior(results, \"i0_perc\", kind=\"kde\", prior_range=False, xlabel=\"$I_0$ (%)\")"
   ]
  },
  {
   "cell_type": "markdown",
   "metadata": {},
   "source": [
    "# Calibrating your own model"
   ]
  },
  {
   "cell_type": "code",
   "execution_count": null,
   "metadata": {},
   "outputs": [],
   "source": [
    "from models.custom_models import my_stochastic_SIR\n",
    "\n",
    "parameters = {\n",
    "    'S': 273523000 - 10,\n",
    "    'I': 10,\n",
    "    'R': 0,\n",
    "    'N': 273523000,\n",
    "    'simulation_dates': simulation_dates,\n",
    "    'dt': 1.0}\n",
    "\n",
    "# priors\n",
    "priors = {\"beta\": stats.uniform(0.15, 0.35), \"mu\": stats.uniform(0.15, 0.15)}"
   ]
  },
  {
   "cell_type": "code",
   "execution_count": null,
   "metadata": {},
   "outputs": [],
   "source": [
    "results = calibration_top_perc(simulation_function=my_stochastic_SIR, \n",
    "                               parameters=parameters,\n",
    "                               priors=priors, \n",
    "                               data={\"data\": df_incidence[\"incidence\"].values},\n",
    "                               top_perc=0.05,\n",
    "                               Nsim=10000)"
   ]
  },
  {
   "cell_type": "code",
   "execution_count": null,
   "metadata": {},
   "outputs": [],
   "source": [
    "plot_selected_quantiles(results, ylabel=\"incidence\")"
   ]
  },
  {
   "cell_type": "markdown",
   "metadata": {},
   "source": [
    "# Running Projections"
   ]
  },
  {
   "cell_type": "code",
   "execution_count": null,
   "metadata": {},
   "outputs": [],
   "source": [
    "import pickle as pkl \n",
    "from epydemix.calibration import run_projections\n",
    "\n",
    "def simulate_wrapper(parameters): \n",
    "    results = simulate(**parameters)\n",
    "    results.update({\"data\": results[\"I_total\"]})\n",
    "    return results\n",
    "\n",
    "\n",
    "with open(\"./test_calibration_results.pkl\", \"rb\") as file: \n",
    "    results = pkl.load(file)\n",
    "\n",
    "\n",
    "simulation_dates_projections = compute_simulation_dates(start_date=df_I.date.values[0], end_date=pd.to_datetime(df_I.date.values[-1]) + timedelta(days=28), steps=\"daily\")\n",
    "parameters_proj = parameters.copy()\n",
    "parameters_proj[\"simulation_dates\"] = simulation_dates_projections\n",
    "\n",
    "projections = run_projections(simulation_function=simulate_wrapper, \n",
    "                              calibration_results=results, \n",
    "                              parameters=parameters_proj, \n",
    "                              iterations=100)"
   ]
  },
  {
   "cell_type": "code",
   "execution_count": null,
   "metadata": {},
   "outputs": [],
   "source": [
    "from epydemix.plotting import get_timeseries_data\n",
    "import seaborn as sns\n",
    "\n"
   ]
  },
  {
   "cell_type": "code",
   "execution_count": null,
   "metadata": {},
   "outputs": [],
   "source": [
    "plot_projections(projections, results)"
   ]
  },
  {
   "cell_type": "code",
   "execution_count": null,
   "metadata": {},
   "outputs": [],
   "source": [
    "plot_selected_quantiles(results)"
   ]
  },
  {
   "cell_type": "code",
   "execution_count": null,
   "metadata": {},
   "outputs": [],
   "source": [
    "import pyabc\n",
    "\n",
    "model = pyabc.ABCSMC().run()"
   ]
  },
  {
   "cell_type": "code",
   "execution_count": 13,
   "metadata": {},
   "outputs": [
    {
     "name": "stdout",
     "output_type": "stream",
     "text": [
      "0:00:00.000027\n"
     ]
    }
   ],
   "source": [
    "import datetime\n",
    "start = datetime.datetime.now()\n",
    "end = datetime.datetime.now()\n",
    "\n",
    "diff = end - start  \n"
   ]
  },
  {
   "cell_type": "code",
   "execution_count": 19,
   "metadata": {},
   "outputs": [
    {
     "name": "stdout",
     "output_type": "stream",
     "text": [
      "Time difference: 00:00:00\n"
     ]
    }
   ],
   "source": [
    "# Format the difference as HH:MM:SS\n",
    "hours, remainder = divmod(diff.total_seconds(), 3600)\n",
    "minutes, seconds = divmod(remainder, 60)\n",
    "\n",
    "formatted_time = f\"{int(hours):02}:{int(minutes):02}:{int(seconds):02}\"\n",
    "\n",
    "print(f\"Time difference: {formatted_time}\")"
   ]
  },
  {
   "cell_type": "code",
   "execution_count": 18,
   "metadata": {},
   "outputs": [
    {
     "ename": "AttributeError",
     "evalue": "'datetime.timedelta' object has no attribute 'hour'",
     "output_type": "error",
     "traceback": [
      "\u001b[0;31m---------------------------------------------------------------------------\u001b[0m",
      "\u001b[0;31mAttributeError\u001b[0m                            Traceback (most recent call last)",
      "Cell \u001b[0;32mIn[18], line 1\u001b[0m\n\u001b[0;32m----> 1\u001b[0m \u001b[43mdiff\u001b[49m\u001b[38;5;241;43m.\u001b[39;49m\u001b[43mhour\u001b[49m\n",
      "\u001b[0;31mAttributeError\u001b[0m: 'datetime.timedelta' object has no attribute 'hour'"
     ]
    }
   ],
   "source": [
    "diff."
   ]
  },
  {
   "cell_type": "code",
   "execution_count": null,
   "metadata": {},
   "outputs": [],
   "source": []
  }
 ],
 "metadata": {
  "kernelspec": {
   "display_name": "base",
   "language": "python",
   "name": "python3"
  },
  "language_info": {
   "codemirror_mode": {
    "name": "ipython",
    "version": 3
   },
   "file_extension": ".py",
   "mimetype": "text/x-python",
   "name": "python",
   "nbconvert_exporter": "python",
   "pygments_lexer": "ipython3",
   "version": "3.8.8"
  }
 },
 "nbformat": 4,
 "nbformat_minor": 2
}
