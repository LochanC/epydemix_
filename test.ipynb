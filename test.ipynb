{
 "cells": [
  {
   "cell_type": "code",
   "execution_count": null,
   "metadata": {},
   "outputs": [],
   "source": [
    "# libraries\n",
    "import numpy as np \n",
    "import pandas as pd\n",
    "import matplotlib.pyplot as plt\n",
    "from datetime import datetime\n",
    "\n",
    "# Epydemix import\n",
    "from epydemix.population import Population\n",
    "from epydemix.epimodel import EpiModel, stochastic_simulation\n",
    "from epydemix.plotting import plot_quantiles"
   ]
  },
  {
   "cell_type": "markdown",
   "metadata": {},
   "source": [
    "# Population Object"
   ]
  },
  {
   "cell_type": "code",
   "execution_count": null,
   "metadata": {},
   "outputs": [],
   "source": [
    "population = Population(name=\"Indonesia\")\n",
    "\n",
    "# add contact matrices\n",
    "population.add_contact_matrix(np.load(\"./basins/Indonesia/contacts-matrix/contacts_matrix_work.npz\")[\"arr_0\"], \n",
    "                              layer_name=\"work\")\n",
    "population.add_contact_matrix(np.load(\"./basins/Indonesia/contacts-matrix/contacts_matrix_home.npz\")[\"arr_0\"], \n",
    "                              layer_name=\"home\")\n",
    "population.add_contact_matrix(np.load(\"./basins/Indonesia/contacts-matrix/contacts_matrix_community.npz\")[\"arr_0\"], \n",
    "                              layer_name=\"community\")\n",
    "population.add_contact_matrix(np.load(\"./basins/Indonesia/contacts-matrix/contacts_matrix_school.npz\")[\"arr_0\"], \n",
    "                              layer_name=\"school\")\n",
    "\n",
    "# add population in different age groups\n",
    "population.add_population(Nk=pd.read_csv(\"./basins/Indonesia/demographic/Nk.csv\")[\"value\"].values, \n",
    "                          Nk_names=pd.read_csv(\"./basins/Indonesia/demographic/Nk.csv\")[\"group\"].values)"
   ]
  },
  {
   "cell_type": "markdown",
   "metadata": {},
   "source": [
    "# EpiModel Object"
   ]
  },
  {
   "cell_type": "code",
   "execution_count": null,
   "metadata": {},
   "outputs": [],
   "source": [
    "# create model \n",
    "model = EpiModel(compartments=[\"S\", \"R\"])\n",
    "\n",
    "# add compartments\n",
    "model.add_compartments(\"I\")\n",
    "\n",
    "# add parameters\n",
    "model.add_parameters({\"beta\": 0.04, \"mu\": 0.1})\n",
    "\n",
    "# add transitions \n",
    "model.add_transition(source=\"S\", target=\"I\", rate_name=\"beta\", agent=\"I\")\n",
    "model.add_transition(source=\"I\", target=\"R\", rate_name=\"mu\")\n",
    "\n",
    "# add interventions\n",
    "model.add_intervention(layer_name=\"work\", start_date=\"2020-01-01\", end_date=\"2020-05-01\", reduction_factor=0.3)\n",
    "#model.add_intervention(layer_name=\"school\", start_date=\"2020-01-01\", end_date=\"2020-02-01\", new_matrix=population.contact_matrices[\"community\"])\n"
   ]
  },
  {
   "cell_type": "code",
   "execution_count": null,
   "metadata": {},
   "outputs": [],
   "source": [
    "compartments, df_quantiles = model.simulate(population=population, \n",
    "                              start_date=\"2019-12-01\", \n",
    "                              end_date=\"2020-06-01\", \n",
    "                              S=population.Nk - np.ones(len(population.Nk)),\n",
    "                              I=np.ones(len(population.Nk)),\n",
    "                              R=np.zeros(len(population.Nk)),\n",
    "                              steps=100)"
   ]
  },
  {
   "cell_type": "code",
   "execution_count": null,
   "metadata": {},
   "outputs": [],
   "source": [
    "plot_quantiles(df_quantiles, compartments=[\"I\", \"S\", \"R\"], demographic_groups=\"total\")\n"
   ]
  },
  {
   "cell_type": "markdown",
   "metadata": {},
   "source": [
    "# Calibration"
   ]
  },
  {
   "cell_type": "code",
   "execution_count": 2,
   "metadata": {},
   "outputs": [],
   "source": [
    "from scipy import stats \n",
    "import numpy as np \n",
    "import pandas as pd\n",
    "import matplotlib.pyplot as plt\n",
    "from datetime import datetime\n",
    "\n",
    "# Epydemix import\n",
    "from epydemix.population import Population\n",
    "from epydemix.epimodel import EpiModel, stochastic_simulation\n",
    "from epydemix.plotting import plot_quantiles\n",
    "from epydemix.calibration import calibration\n",
    "\n",
    "# create model \n",
    "model = EpiModel(compartments=[\"S\", \"I\", \"R\"])\n",
    "model.add_parameters({\"beta\": 0.04, \"mu\": 0.1})\n",
    "model.add_transition(source=\"S\", target=\"I\", rate_name=\"beta\", agent=\"I\")\n",
    "model.add_transition(source=\"I\", target=\"R\", rate_name=\"mu\")\n",
    "\n",
    "# population \n",
    "population = Population(name=\"Indonesia\")\n",
    "population.add_contact_matrix(np.load(\"./basins/Indonesia/contacts-matrix/contacts_matrix_work.npz\")[\"arr_0\"], layer_name=\"work\")\n",
    "population.add_contact_matrix(np.load(\"./basins/Indonesia/contacts-matrix/contacts_matrix_home.npz\")[\"arr_0\"], layer_name=\"home\")\n",
    "population.add_contact_matrix(np.load(\"./basins/Indonesia/contacts-matrix/contacts_matrix_community.npz\")[\"arr_0\"], layer_name=\"community\")\n",
    "population.add_contact_matrix(np.load(\"./basins/Indonesia/contacts-matrix/contacts_matrix_school.npz\")[\"arr_0\"], layer_name=\"school\")\n",
    "population.add_population(Nk=pd.read_csv(\"./basins/Indonesia/demographic/Nk.csv\")[\"value\"].values, \n",
    "                          Nk_names=pd.read_csv(\"./basins/Indonesia/demographic/Nk.csv\")[\"group\"].values)\n",
    "\n",
    "\n",
    "# initial conditions\n",
    "S=population.Nk - np.ones(len(population.Nk))\n",
    "I=np.ones(len(population.Nk))\n",
    "R=np.zeros(len(population.Nk))\n",
    "\n",
    "# simulation dates\n",
    "steps = 100\n",
    "start_date=\"2019-12-01\"\n",
    "end_date=\"2020-06-01\"\n",
    "start_date, end_date = pd.to_datetime(start_date), pd.to_datetime(end_date)\n",
    "simulation_dates = pd.date_range(start=start_date, end=end_date, periods=steps).tolist()\n",
    "model.compute_contact_reductions(population, simulation_dates)\n",
    "\n",
    "# parameters\n",
    "parameters = {\"Cs\": model.Cs, \n",
    "              \"Nk\": population.Nk, \n",
    "              \"S\": S, \n",
    "              \"I\": I, \n",
    "              \"R\": R, \n",
    "              \"epimodel\": model}\n",
    "parameters.update(model.parameters)\n",
    "results = stochastic_simulation(parameters)"
   ]
  },
  {
   "cell_type": "code",
   "execution_count": null,
   "metadata": {},
   "outputs": [],
   "source": [
    "simulations, sampled_params = calibration(simulation_function=stochastic_simulation, \n",
    "                                          parameters=parameters,\n",
    "                                          priors={\"beta\": stats.uniform(0.01, 0.03), \n",
    "                                                  \"mu\": stats.uniform(0.1, 0.25)}, \n",
    "                                                )"
   ]
  },
  {
   "cell_type": "code",
   "execution_count": 6,
   "metadata": {},
   "outputs": [
    {
     "data": {
      "text/plain": [
       "0"
      ]
     },
     "execution_count": 6,
     "metadata": {},
     "output_type": "execute_result"
    }
   ],
   "source": [
    "errors = [1,2,4,5,5,12,4,4,5]\n",
    "np.argwhere(np.array(errors) < 4).ravel()"
   ]
  },
  {
   "cell_type": "code",
   "execution_count": null,
   "metadata": {},
   "outputs": [],
   "source": []
  }
 ],
 "metadata": {
  "kernelspec": {
   "display_name": "base",
   "language": "python",
   "name": "python3"
  },
  "language_info": {
   "codemirror_mode": {
    "name": "ipython",
    "version": 3
   },
   "file_extension": ".py",
   "mimetype": "text/x-python",
   "name": "python",
   "nbconvert_exporter": "python",
   "pygments_lexer": "ipython3",
   "version": "3.8.8"
  },
  "orig_nbformat": 4
 },
 "nbformat": 4,
 "nbformat_minor": 2
}
