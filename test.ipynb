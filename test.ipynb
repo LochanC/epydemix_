{
 "cells": [
  {
   "cell_type": "code",
   "execution_count": 1,
   "metadata": {},
   "outputs": [],
   "source": [
    "# libraries\n",
    "from Epydemix import Epydemix\n",
    "import numpy as np \n",
    "import matplotlib.pyplot as plt\n",
    "from datetime import datetime"
   ]
  },
  {
   "cell_type": "markdown",
   "metadata": {},
   "source": [
    "# Population Object"
   ]
  },
  {
   "cell_type": "code",
   "execution_count": 2,
   "metadata": {},
   "outputs": [],
   "source": [
    "from Epydemix.population import Population\n",
    "import pandas as pd\n",
    "\n",
    "population = Population(name=\"Indonesia\")\n",
    "\n",
    "# add contact matrices\n",
    "population.add_contact_matrix(np.load(\"./basins/Indonesia/contacts-matrix/contacts_matrix_all.npz\")[\"arr_0\"], \n",
    "                              layer_name=\"all\")\n",
    "population.add_contact_matrix(np.load(\"./basins/Indonesia/contacts-matrix/contacts_matrix_work.npz\")[\"arr_0\"], \n",
    "                              layer_name=\"work\")\n",
    "population.add_contact_matrix(np.load(\"./basins/Indonesia/contacts-matrix/contacts_matrix_home.npz\")[\"arr_0\"], \n",
    "                              layer_name=\"home\")\n",
    "population.add_contact_matrix(np.load(\"./basins/Indonesia/contacts-matrix/contacts_matrix_community.npz\")[\"arr_0\"], \n",
    "                              layer_name=\"community\")\n",
    "population.add_contact_matrix(np.load(\"./basins/Indonesia/contacts-matrix/contacts_matrix_school.npz\")[\"arr_0\"], \n",
    "                              layer_name=\"school\")\n",
    "\n",
    "# add population in different age groups\n",
    "population.add_population(pd.read_csv(\"./basins/Indonesia/demographic/Nk.csv\")[\"value\"].values)"
   ]
  },
  {
   "cell_type": "markdown",
   "metadata": {},
   "source": [
    "# EpiModel Object"
   ]
  },
  {
   "cell_type": "code",
   "execution_count": 7,
   "metadata": {},
   "outputs": [
    {
     "data": {
      "text/plain": [
       "<Epydemix.transition.Transition at 0x7fb666a42550>"
      ]
     },
     "execution_count": 7,
     "metadata": {},
     "output_type": "execute_result"
    }
   ],
   "source": [
    "from Epydemix.epimodel import EpiModel\n",
    "\n",
    "# create model \n",
    "model = EpiModel(compartments=[\"S\", \"I\"])\n",
    "\n",
    "# add compartments\n",
    "model.add_compartments(\"R\")\n",
    "\n",
    "# add transitions \n",
    "model.add_transition(source=\"S\", target=\"I\", rate=0.2, rate_name=\"beta\", agent=\"I\")\n",
    "model.add_transition(source=\"I\", target=\"R\", rate=0.1, rate_name=\"mu\")\n",
    "\n",
    "model.transitions[\"I\"][0]"
   ]
  },
  {
   "cell_type": "code",
   "execution_count": null,
   "metadata": {},
   "outputs": [],
   "source": []
  },
  {
   "cell_type": "code",
   "execution_count": null,
   "metadata": {},
   "outputs": [],
   "source": []
  },
  {
   "cell_type": "markdown",
   "metadata": {},
   "source": [
    "# Toy Model with Interventions"
   ]
  },
  {
   "cell_type": "code",
   "execution_count": null,
   "metadata": {},
   "outputs": [],
   "source": [
    "model = Epydemix()\n",
    "\n",
    "# simulation dates\n",
    "start_date, end_date = datetime(2022, 1, 1), datetime(2022, 12, 31)\n",
    "\n",
    "# Number of stochastic simulations \n",
    "Nsim = 10\n",
    "\n",
    "# define epidemic model (SEIR)\n",
    "model.add_interaction(\"S\", \"E\", \"I\", 0.05, rate_name=\"beta\")\n",
    "model.add_spontaneous(\"E\", \"I\", 1. / 4., rate_name=\"eps\")\n",
    "model.add_spontaneous(\"I\", \"R\", 1. / 2.5, rate_name=\"mu\")\n",
    "\n",
    "# simulate without interventions\n",
    "simulations = model.simulate(start_date=start_date, \n",
    "                             end_date=end_date, Nsim=Nsim, \n",
    "                             S=model.basin.Nk - np.ones(model.n_age),\n",
    "                             I=np.ones(model.n_age),\n",
    "                             R=np.zeros(model.n_age))\n",
    "\n",
    "# simulate with interventions\n",
    "model.add_intervention(start_date=datetime(2022, 3, 1), \n",
    "                       end_date=datetime(2022, 6, 1), \n",
    "                       layer=\"school\", \n",
    "                       factor=0.344)\n",
    "\n",
    "model.add_intervention(start_date=datetime(2022, 3, 15), \n",
    "                       end_date=datetime(2022, 9, 1), \n",
    "                       layer=\"work\", \n",
    "                       factor=0.5)\n",
    "\n",
    "model.add_intervention(start_date=datetime(2022, 4, 1), \n",
    "                       end_date=datetime(2022, 8, 1), \n",
    "                       layer=\"community\", \n",
    "                       factor=0.8)\n",
    "\n",
    "simulations_npis = model.simulate(start_date=start_date, \n",
    "                             end_date=end_date, Nsim=Nsim, \n",
    "                             S=model.basin.Nk - np.ones(model.n_age),\n",
    "                             I=np.ones(model.n_age),\n",
    "                             R=np.zeros(model.n_age))"
   ]
  },
  {
   "cell_type": "code",
   "execution_count": null,
   "metadata": {},
   "outputs": [],
   "source": [
    "plt.plot(np.quantile(simulations, axis=0, q=0.5).sum(axis=2)[:, 2], label=\"without intervention\")\n",
    "plt.plot(np.quantile(simulations_npis, axis=0, q=0.5).sum(axis=2)[:, 2], label=\"with intervention\")\n",
    "plt.ylabel(\"Number of infected\")\n",
    "plt.legend()"
   ]
  },
  {
   "cell_type": "code",
   "execution_count": null,
   "metadata": {},
   "outputs": [],
   "source": [
    "# plot impact of intervention on spectral radius \n",
    "model.plot_spectral_radius()"
   ]
  },
  {
   "cell_type": "markdown",
   "metadata": {},
   "source": [
    "# Complex Compartmentalization Setup"
   ]
  },
  {
   "cell_type": "code",
   "execution_count": null,
   "metadata": {},
   "outputs": [],
   "source": [
    "model = Epydemix()\n",
    "\n",
    "# simulation dates\n",
    "start_date, end_date = datetime(2022, 1, 1), datetime(2022, 12, 31)\n",
    "\n",
    "# Number of stochastic simulations \n",
    "Nsim = 10\n",
    "\n",
    "# define epidemic model (SEPIAR)\n",
    "model.add_interaction(\"S\", \"E\", \"I\", 0.05, rate_name=\"beta\")\n",
    "model.add_interaction(\"S\", \"E\", \"IA\", 0.05 * 0.7, rate_name=\"beta_asymp\")\n",
    "model.add_spontaneous(\"E\", \"P\", 1. / 2., rate_name=\"gamma\")\n",
    "model.add_spontaneous(\"P\", \"I\", 1. / 2. * 0.7, rate_name=\"eps_inf\")\n",
    "model.add_spontaneous(\"P\", \"IA\", 1. / 2. * 0.3, rate_name=\"eps_asymp\")\n",
    "model.add_spontaneous(\"I\", \"R\", 1. / 2.5, rate_name=\"mu\")\n",
    "model.add_spontaneous(\"IA\", \"RA\", 1. / 2.5, rate_name=\"mu_asymp\")\n",
    "\n",
    "# simulate without interventions\n",
    "simulations = model.simulate(start_date=start_date, \n",
    "                             end_date=end_date, Nsim=Nsim, \n",
    "                             S=model.basin.Nk - np.ones(model.n_age),\n",
    "                             I=np.ones(model.n_age),\n",
    "                             R=np.zeros(model.n_age))"
   ]
  },
  {
   "cell_type": "code",
   "execution_count": null,
   "metadata": {},
   "outputs": [],
   "source": [
    "for k, v in model.pos.items(): \n",
    "    plt.plot(np.quantile(simulations, axis=0, q=0.5).sum(axis=2)[:, v], label=k)\n",
    "plt.legend()"
   ]
  },
  {
   "cell_type": "code",
   "execution_count": null,
   "metadata": {},
   "outputs": [],
   "source": [
    "model = Epydemix()\n",
    "\n",
    "# define epidemic model (SEIR)\n",
    "model.add_interaction(\"S\", \"E\", \"I1\", 0.05, rate_name=\"beta1\")\n",
    "model.add_interaction(\"S\", \"E\", \"I2\", 0.05, rate_name=\"beta2\")"
   ]
  },
  {
   "cell_type": "code",
   "execution_count": null,
   "metadata": {},
   "outputs": [],
   "source": [
    "list(model.transitions.edges(data=True))[0]"
   ]
  },
  {
   "cell_type": "code",
   "execution_count": null,
   "metadata": {},
   "outputs": [],
   "source": [
    "model = Epydemix()\n",
    "\n",
    "# simulation dates\n",
    "start_date, end_date = datetime(2022, 1, 1), datetime(2022, 12, 31)\n",
    "\n",
    "# Number of stochastic simulations \n",
    "Nsim = 1\n",
    "\n",
    "# define epidemic model (SEIR)\n",
    "model.add_interaction(\"S\", \"E\", \"I\", 0.05, rate_name=\"beta\")\n",
    "model.add_spontaneous(\"E\", \"I\", 1. / 4., rate_name=\"eps\")\n",
    "model.add_spontaneous(\"I\", \"R\", 1. / 2.5, rate_name=\"mu\")"
   ]
  },
  {
   "cell_type": "code",
   "execution_count": null,
   "metadata": {},
   "outputs": [],
   "source": [
    "%timeit model.simulate(start_date=start_date,  end_date=end_date, Nsim=Nsim,  S=model.basin.Nk - np.ones(model.n_age),  I=np.ones(model.n_age),            R=np.zeros(model.n_age))"
   ]
  },
  {
   "cell_type": "code",
   "execution_count": null,
   "metadata": {},
   "outputs": [],
   "source": []
  }
 ],
 "metadata": {
  "kernelspec": {
   "display_name": "base",
   "language": "python",
   "name": "python3"
  },
  "language_info": {
   "codemirror_mode": {
    "name": "ipython",
    "version": 3
   },
   "file_extension": ".py",
   "mimetype": "text/x-python",
   "name": "python",
   "nbconvert_exporter": "python",
   "pygments_lexer": "ipython3",
   "version": "3.8.8"
  },
  "orig_nbformat": 4
 },
 "nbformat": 4,
 "nbformat_minor": 2
}
