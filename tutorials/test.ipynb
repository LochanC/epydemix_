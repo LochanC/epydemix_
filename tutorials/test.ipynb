{
 "cells": [
  {
   "cell_type": "code",
   "execution_count": 1,
   "metadata": {},
   "outputs": [
    {
     "name": "stdout",
     "output_type": "stream",
     "text": [
      "EpiModel(name='SIR Model')\n",
      "Compartments: 3\n",
      "  S, I, R\n",
      "Transitions: 2\n",
      "  Transitions between compartments:\n",
      "    S -> I, rate: ['beta']\n",
      "    I -> R, rate: ['gamma']\n",
      "Parameters: 2\n",
      "  Model parameters:\n",
      "    beta: 0.3\n",
      "    gamma: 0.1\n",
      "Population: epydemix_population\n",
      "  Population size: 100000 individuals\n",
      "  Demographic groups: 1\n",
      "    0\n",
      "\n"
     ]
    }
   ],
   "source": [
    "# Import the necessary components\n",
    "from epydemix import EpiModel, simulate\n",
    "from epydemix.visualization import plot_quantiles, plot_trajectories\n",
    "\n",
    "\n",
    "# Defining a basic SIR model\n",
    "sir_model = EpiModel(\n",
    "    name='SIR Model',\n",
    "    compartments=['S', 'I', 'R'],  # Susceptible, Infected, Recovered\n",
    "    parameters={\n",
    "        'beta': 0.3,  # Transmission rate\n",
    "        'gamma': 0.1  # Recovery rate\n",
    "    }\n",
    ")\n",
    "\n",
    "# Defining the transitions\n",
    "sir_model.add_transition(source='S', target='I', rate='beta', params='I', kind='mediated')\n",
    "sir_model.add_transition(source='I', target='R', rate='gamma', kind='spontaneous')\n",
    "\n",
    "print(sir_model)"
   ]
  },
  {
   "cell_type": "code",
   "execution_count": 2,
   "metadata": {},
   "outputs": [],
   "source": [
    "results = simulate(sir_model)"
   ]
  },
  {
   "cell_type": "code",
   "execution_count": null,
   "metadata": {},
   "outputs": [],
   "source": [
    "# running the simulations\n",
    "sir_results = sir_model.run_simulations(\n",
    "    start_date=\"2024-01-01\",\n",
    "    end_date=\"2024-04-10\",\n",
    ")"
   ]
  },
  {
   "cell_type": "code",
   "execution_count": null,
   "metadata": {},
   "outputs": [],
   "source": [
    "import matplotlib.pyplot as plt\n",
    "plt.plot(results.compartments[\"S_total\"])\n",
    "plt.plot(results.compartments[\"I_total\"])\n",
    "plt.plot(results.compartments[\"R_total\"])"
   ]
  },
  {
   "cell_type": "code",
   "execution_count": null,
   "metadata": {},
   "outputs": [],
   "source": [
    "sir_model.parameters"
   ]
  },
  {
   "cell_type": "code",
   "execution_count": null,
   "metadata": {},
   "outputs": [],
   "source": []
  }
 ],
 "metadata": {
  "kernelspec": {
   "display_name": "base",
   "language": "python",
   "name": "python3"
  },
  "language_info": {
   "codemirror_mode": {
    "name": "ipython",
    "version": 3
   },
   "file_extension": ".py",
   "mimetype": "text/x-python",
   "name": "python",
   "nbconvert_exporter": "python",
   "pygments_lexer": "ipython3",
   "version": "3.8.8"
  }
 },
 "nbformat": 4,
 "nbformat_minor": 2
}
