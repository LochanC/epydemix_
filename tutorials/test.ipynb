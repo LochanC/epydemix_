{
 "cells": [
  {
   "cell_type": "code",
   "execution_count": 1,
   "metadata": {},
   "outputs": [],
   "source": [
    "# Import the necessary components\n",
    "from epydemix import EpiModel, simulate\n",
    "from epydemix.visualization import plot_quantiles\n",
    "\n",
    "# Defining a basic SIR model\n",
    "sir_model = EpiModel(\n",
    "    name='SIR Model',\n",
    "    compartments=['S', 'I', 'R'],  # Susceptible, Infected, Recovered\n",
    "    parameters={\n",
    "        'beta': 0.3,  # Transmission rate\n",
    "        'gamma': 0.1  # Recovery rate\n",
    "    }\n",
    ")\n",
    "\n",
    "# Defining the transitions\n",
    "sir_model.add_transition(source='S', target='I', rate='beta', agent='I')\n",
    "sir_model.add_transition(source='I', target='R', rate='gamma')\n",
    "\n",
    "# Initial conditions\n",
    "initial_conditions = {\n",
    "    'S': 100000-10,  \n",
    "    'I': 10,   \n",
    "    'R': 0     \n",
    "}\n",
    "\n",
    "# running the simulations\n"
   ]
  },
  {
   "cell_type": "code",
   "execution_count": 2,
   "metadata": {},
   "outputs": [],
   "source": [
    "def run_sir(dt=1, resample_frequency=None): \n",
    "    trajectory = simulate(sir_model,\n",
    "        start_date=\"2024-01-01\",\n",
    "        end_date=\"2024-04-10\", dt=dt, resample_frequency=resample_frequency)\n",
    "\n",
    "    return trajectory  "
   ]
  },
  {
   "cell_type": "code",
   "execution_count": 3,
   "metadata": {},
   "outputs": [
    {
     "name": "stdout",
     "output_type": "stream",
     "text": [
      "24.9 ms ± 4.5 ms per loop (mean ± std. dev. of 7 runs, 10 loops each)\n"
     ]
    }
   ],
   "source": [
    "%timeit run_sir()   "
   ]
  },
  {
   "cell_type": "code",
   "execution_count": 7,
   "metadata": {},
   "outputs": [
    {
     "data": {
      "text/plain": [
       "array(['2024-01-01T00:00:00.000000000', '2024-01-02T00:00:00.000000000',\n",
       "       '2024-01-03T00:00:00.000000000', '2024-01-04T00:00:00.000000000',\n",
       "       '2024-01-05T00:00:00.000000000', '2024-01-06T00:00:00.000000000',\n",
       "       '2024-01-07T00:00:00.000000000', '2024-01-08T00:00:00.000000000',\n",
       "       '2024-01-09T00:00:00.000000000', '2024-01-10T00:00:00.000000000',\n",
       "       '2024-01-11T00:00:00.000000000', '2024-01-12T00:00:00.000000000',\n",
       "       '2024-01-13T00:00:00.000000000', '2024-01-14T00:00:00.000000000',\n",
       "       '2024-01-15T00:00:00.000000000', '2024-01-16T00:00:00.000000000',\n",
       "       '2024-01-17T00:00:00.000000000', '2024-01-18T00:00:00.000000000',\n",
       "       '2024-01-19T00:00:00.000000000', '2024-01-20T00:00:00.000000000',\n",
       "       '2024-01-21T00:00:00.000000000', '2024-01-22T00:00:00.000000000',\n",
       "       '2024-01-23T00:00:00.000000000', '2024-01-24T00:00:00.000000000',\n",
       "       '2024-01-25T00:00:00.000000000', '2024-01-26T00:00:00.000000000',\n",
       "       '2024-01-27T00:00:00.000000000', '2024-01-28T00:00:00.000000000',\n",
       "       '2024-01-29T00:00:00.000000000', '2024-01-30T00:00:00.000000000',\n",
       "       '2024-01-31T00:00:00.000000000', '2024-02-01T00:00:00.000000000',\n",
       "       '2024-02-02T00:00:00.000000000', '2024-02-03T00:00:00.000000000',\n",
       "       '2024-02-04T00:00:00.000000000', '2024-02-05T00:00:00.000000000',\n",
       "       '2024-02-06T00:00:00.000000000', '2024-02-07T00:00:00.000000000',\n",
       "       '2024-02-08T00:00:00.000000000', '2024-02-09T00:00:00.000000000',\n",
       "       '2024-02-10T00:00:00.000000000', '2024-02-11T00:00:00.000000000',\n",
       "       '2024-02-12T00:00:00.000000000', '2024-02-13T00:00:00.000000000',\n",
       "       '2024-02-14T00:00:00.000000000', '2024-02-15T00:00:00.000000000',\n",
       "       '2024-02-16T00:00:00.000000000', '2024-02-17T00:00:00.000000000',\n",
       "       '2024-02-18T00:00:00.000000000', '2024-02-19T00:00:00.000000000',\n",
       "       '2024-02-20T00:00:00.000000000', '2024-02-21T00:00:00.000000000',\n",
       "       '2024-02-22T00:00:00.000000000', '2024-02-23T00:00:00.000000000',\n",
       "       '2024-02-24T00:00:00.000000000', '2024-02-25T00:00:00.000000000',\n",
       "       '2024-02-26T00:00:00.000000000', '2024-02-27T00:00:00.000000000',\n",
       "       '2024-02-28T00:00:00.000000000', '2024-02-29T00:00:00.000000000',\n",
       "       '2024-03-01T00:00:00.000000000', '2024-03-02T00:00:00.000000000',\n",
       "       '2024-03-03T00:00:00.000000000', '2024-03-04T00:00:00.000000000',\n",
       "       '2024-03-05T00:00:00.000000000', '2024-03-06T00:00:00.000000000',\n",
       "       '2024-03-07T00:00:00.000000000', '2024-03-08T00:00:00.000000000',\n",
       "       '2024-03-09T00:00:00.000000000', '2024-03-10T00:00:00.000000000',\n",
       "       '2024-03-11T00:00:00.000000000', '2024-03-12T00:00:00.000000000',\n",
       "       '2024-03-13T00:00:00.000000000', '2024-03-14T00:00:00.000000000',\n",
       "       '2024-03-15T00:00:00.000000000', '2024-03-16T00:00:00.000000000',\n",
       "       '2024-03-17T00:00:00.000000000', '2024-03-18T00:00:00.000000000',\n",
       "       '2024-03-19T00:00:00.000000000', '2024-03-20T00:00:00.000000000',\n",
       "       '2024-03-21T00:00:00.000000000', '2024-03-22T00:00:00.000000000',\n",
       "       '2024-03-23T00:00:00.000000000', '2024-03-24T00:00:00.000000000',\n",
       "       '2024-03-25T00:00:00.000000000', '2024-03-26T00:00:00.000000000',\n",
       "       '2024-03-27T00:00:00.000000000', '2024-03-28T00:00:00.000000000',\n",
       "       '2024-03-29T00:00:00.000000000', '2024-03-30T00:00:00.000000000',\n",
       "       '2024-03-31T00:00:00.000000000', '2024-04-01T00:00:00.000000000',\n",
       "       '2024-04-02T00:00:00.000000000', '2024-04-03T00:00:00.000000000',\n",
       "       '2024-04-04T00:00:00.000000000', '2024-04-05T00:00:00.000000000',\n",
       "       '2024-04-06T00:00:00.000000000', '2024-04-07T00:00:00.000000000',\n",
       "       '2024-04-08T00:00:00.000000000', '2024-04-09T00:00:00.000000000',\n",
       "       '2024-04-10T00:00:00.000000000'], dtype='datetime64[ns]')"
      ]
     },
     "execution_count": 7,
     "metadata": {},
     "output_type": "execute_result"
    },
    {
     "data": {
      "image/png": "[encoded data removed]",
      "text/plain": [
       "<Figure size 640x480 with 1 Axes>"
      ]
     },
     "metadata": {},
     "output_type": "display_data"
    }
   ],
   "source": [
    "res = run_sir(dt=1, resample_frequency=None)\n",
    "import matplotlib.pyplot as plt \n",
    "plt.plot(res.compartments[\"I_total\"])\n",
    "res.dates"
   ]
  },
  {
   "cell_type": "code",
   "execution_count": null,
   "metadata": {},
   "outputs": [],
   "source": [
    "import pandas as pd    \n",
    "from datetime import timedelta\n",
    "from epydemix.utils import compute_simulation_dates\n",
    "dt = 1/3\n",
    "start_date=\"2024-01-01\"\n",
    "end_date=\"2024-04-10\"\n",
    "if isinstance(start_date, str):\n",
    "        start_date = pd.to_datetime(start_date)\n",
    "if isinstance(end_date, str):\n",
    "    end_date = pd.to_datetime(end_date)\n",
    "total_days = len(pd.date_range(start_date, end_date, freq=\"D\"))\n",
    "simulation_dates = compute_simulation_dates(start_date, end_date, steps=int(1 / dt) * total_days)\n",
    "len(simulation_dates)\n",
    "simulation_dates"
   ]
  },
  {
   "cell_type": "code",
   "execution_count": null,
   "metadata": {},
   "outputs": [],
   "source": [
    "if isinstance(start_date, str):\n",
    "    start_date = pd.to_datetime(start_date)\n",
    "if isinstance(end_date, str):\n",
    "    end_date = pd.to_datetime(end_date)\n",
    "\n",
    "# Calculate total duration in days\n",
    "total_days = (end_date - start_date).total_seconds() / (24 * 3600)\n",
    "\n",
    "# Calculate number of steps if not provided\n",
    "steps = int(total_days / dt)\n",
    "\n",
    "# Create timestamps with proper sub-day intervals\n",
    "timestamps = [\n",
    "    start_date + pd.Timedelta(days=i * dt)\n",
    "    for i in range(steps + 1)\n",
    "]\n",
    "\n",
    "len(timestamps)\n",
    "timestamps"
   ]
  },
  {
   "cell_type": "code",
   "execution_count": null,
   "metadata": {},
   "outputs": [],
   "source": [
    "len(pd.date_range(start_date, end_date, freq=\"D\"))"
   ]
  },
  {
   "cell_type": "code",
   "execution_count": null,
   "metadata": {},
   "outputs": [],
   "source": []
  },
  {
   "cell_type": "code",
   "execution_count": null,
   "metadata": {},
   "outputs": [],
   "source": []
  },
  {
   "cell_type": "code",
   "execution_count": null,
   "metadata": {},
   "outputs": [],
   "source": [
    "if isinstance(start_date, str):\n",
    "        start_date = pd.to_datetime(start_date)\n",
    "if isinstance(end_date, str):\n",
    "    end_date = pd.to_datetime(end_date)\n",
    "total_days = (end_date - start_date).total_seconds() / (24 * 3600)\n",
    "\n",
    "steps = int(total_days / dt)\n",
    "timestamps = [\n",
    "        start_date + pd.Timedelta(days=i * dt)\n",
    "        for i in range(steps + 1)\n",
    "    ]\n",
    "\n",
    "len(timestamps)"
   ]
  },
  {
   "cell_type": "code",
   "execution_count": null,
   "metadata": {},
   "outputs": [],
   "source": [
    "compute_simulation_dates(start_date, end_date, steps=301)"
   ]
  },
  {
   "cell_type": "code",
   "execution_count": null,
   "metadata": {},
   "outputs": [],
   "source": []
  },
  {
   "cell_type": "code",
   "execution_count": null,
   "metadata": {},
   "outputs": [],
   "source": [
    "plot_quantiles(res, columns=[\"I_total\", \"S_total\", \"R_total\"], title='SIR Model Simulation')"
   ]
  },
  {
   "cell_type": "code",
   "execution_count": 2,
   "metadata": {},
   "outputs": [],
   "source": [
    "trajectory = simulate(sir_model,\n",
    "        start_date=\"2024-01-01\",\n",
    "        end_date=\"2024-04-10\")\n"
   ]
  },
  {
   "cell_type": "code",
   "execution_count": 14,
   "metadata": {},
   "outputs": [],
   "source": [
    "simulations = sir_model.run_simulations(\n",
    "    start_date=\"2024-01-01\",\n",
    "    end_date=\"2024-04-10\")\n"
   ]
  },
  {
   "cell_type": "code",
   "execution_count": null,
   "metadata": {},
   "outputs": [],
   "source": [
    "simulations.get_quantiles()"
   ]
  },
  {
   "cell_type": "code",
   "execution_count": null,
   "metadata": {},
   "outputs": [],
   "source": [
    "import pandas as pd \n",
    "pd.infer_freq(simulations.dates)"
   ]
  },
  {
   "cell_type": "code",
   "execution_count": null,
   "metadata": {},
   "outputs": [],
   "source": []
  }
 ],
 "metadata": {
  "kernelspec": {
   "display_name": "base",
   "language": "python",
   "name": "python3"
  },
  "language_info": {
   "codemirror_mode": {
    "name": "ipython",
    "version": 3
   },
   "file_extension": ".py",
   "mimetype": "text/x-python",
   "name": "python",
   "nbconvert_exporter": "python",
   "pygments_lexer": "ipython3",
   "version": "3.8.8"
  }
 },
 "nbformat": 4,
 "nbformat_minor": 2
}
