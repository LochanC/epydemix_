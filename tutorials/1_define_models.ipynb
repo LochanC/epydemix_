{
 "cells": [
  {
   "cell_type": "code",
   "execution_count": 1,
   "metadata": {},
   "outputs": [],
   "source": [
    "import numpy as np \n",
    "import pandas as pd\n",
    "import matplotlib.pyplot as plt\n",
    "from epydemix.model.epimodel import EpiModel\n",
    "from epydemix.visualization.plotting import plot_quantiles, plot_spectral_radius"
   ]
  },
  {
   "cell_type": "code",
   "execution_count": 3,
   "metadata": {},
   "outputs": [],
   "source": [
    "from epydemix import EpiModel"
   ]
  },
  {
   "cell_type": "code",
   "execution_count": null,
   "metadata": {},
   "outputs": [],
   "source": [
    "import sys\n",
    "print(sys.executable)"
   ]
  },
  {
   "cell_type": "markdown",
   "metadata": {},
   "source": [
    "# EpiModel Object\n",
    "\n",
    "The ```EpiModel``` object is the core of the ```epydemix``` simulation module. With ```EpiModel``` objects we can define flexible epidemic models and then simulate them.\n",
    "\n",
    "Defining an ```EpiModel``` object requires three simple steps: \n",
    "1. Define the compartments.\n",
    "2. Specify the model parameters.\n",
    "3. Define the transitions.\n",
    "\n",
    "Parameters can also be defined before compartments, while transitions must be defined after the definition of compartments, otherwise this will raise an error. Now, let's walk through these steps by creating a simple SIR model:"
   ]
  },
  {
   "cell_type": "code",
   "execution_count": null,
   "metadata": {},
   "outputs": [],
   "source": [
    "# create model \n",
    "model = EpiModel()\n",
    "\n",
    "# add compartments\n",
    "model.add_compartments([\"S\", \"I\", \"R\"])\n",
    "\n",
    "# define parameters\n",
    "model.add_parameter(name=\"beta\", value=0.3)\n",
    "model.add_parameter(name=\"mu\", value=0.1)\n",
    "\n",
    "# add transitions \n",
    "model.add_transition(source=\"S\", target=\"I\", rate=\"beta\", agent=\"I\")\n",
    "model.add_transition(source=\"I\", target=\"R\", rate=\"mu\")"
   ]
  },
  {
   "cell_type": "markdown",
   "metadata": {},
   "source": [
    "In more details: \n",
    "- compartments are string identifying the name of the compartment. They can be added when creating the ```EpiModel``` object or afterwards using the ```add_compartments``` method (which takes as input both single and list of compartments)\n",
    "\n",
    "- parameters can be added using the ```add_parameters``` method by specifying their name and value. Each parameter's value can either be a scalar, in which case the parameter is treated as a constant, or an array, allowing for a time-varying parameter.\n",
    "\n",
    "- transitions are represented as ```Transition``` objects and they have the following attributes: \n",
    "    - ```source```: the name of the source compartment of the transition\n",
    "    - ```target```: the name of the target compartment of the transition\n",
    "    - ```rate```: the expression of the rate of the transition or directly the value of the rate\n",
    "    - ```agent```: the name of the compartment which catalyzes the transition (in case of spontaneous transitions it is set to None)\n",
    "\n",
    "\n",
    "We are now ready to run our first simulation. To do so, we will need to specify start and end date of the simulation and the initial conditions for each compartment:"
   ]
  },
  {
   "cell_type": "code",
   "execution_count": null,
   "metadata": {},
   "outputs": [],
   "source": [
    "results = model.run_simulations(start_date=\"2019-12-01\", \n",
    "                                end_date=\"2020-04-01\", \n",
    "                                S=99990,\n",
    "                                I=10)\n",
    "plot_quantiles(results, columns=[\"I_total\", \"S_total\", \"R_total\"])"
   ]
  },
  {
   "cell_type": "markdown",
   "metadata": {},
   "source": [
    "By default, an ```EpiModel``` object has a population of 100000 homogeneously mixed. These details can be accessed via the ```population``` attribute:"
   ]
  },
  {
   "cell_type": "code",
   "execution_count": null,
   "metadata": {},
   "outputs": [],
   "source": [
    "print(\"Population:\", model.population.Nk)\n",
    "print(\"Contact matrices:\", model.population.contact_matrices)\n",
    "print(\"Population name:\", model.population.name)\n"
   ]
  },
  {
   "cell_type": "markdown",
   "metadata": {},
   "source": [
    "- real populations\n",
    "- custom populations"
   ]
  }
 ],
 "metadata": {
  "kernelspec": {
   "display_name": "base",
   "language": "python",
   "name": "python3"
  },
  "language_info": {
   "codemirror_mode": {
    "name": "ipython",
    "version": 3
   },
   "file_extension": ".py",
   "mimetype": "text/x-python",
   "name": "python",
   "nbconvert_exporter": "python",
   "pygments_lexer": "ipython3",
   "version": "3.8.8"
  }
 },
 "nbformat": 4,
 "nbformat_minor": 2
}
