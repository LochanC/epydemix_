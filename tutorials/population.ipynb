{
 "cells": [
  {
   "cell_type": "code",
   "execution_count": null,
   "metadata": {},
   "outputs": [],
   "source": [
    "import numpy as np \n",
    "import pandas as pd\n",
    "import matplotlib.pyplot as plt\n",
    "from epydemix.model import Population, load_population"
   ]
  },
  {
   "cell_type": "markdown",
   "metadata": {},
   "source": [
    "# Population Object\n",
    "\n",
    "The ```Population``` object represents the population on which the epidemic is simulated. It has the following key attributes:\n",
    "\n",
    "- ```contact_matrices```: this a dictionary of contact matrices. Each element $i, j$ of the contact matrix represents the rate of contact between two demographic groups in a given context (e.g., schools, workplaces). The context of the contacts are defined in the key of the dictionary.\n",
    "\n",
    "- ```Nk```: this is an array representing the number of individuals in each demographic group (e.g., age groups). The name of demographic groups (e.g.,```0-9, 10-19, ...```) is collected in the attribute ```Nk_names```\n",
    "\n",
    "We will now create a first ```Population``` object named ```Indonesia```:\n"
   ]
  },
  {
   "cell_type": "code",
   "execution_count": null,
   "metadata": {},
   "outputs": [],
   "source": [
    "population = Population(name=\"Indonesia\")"
   ]
  },
  {
   "cell_type": "markdown",
   "metadata": {},
   "source": [
    "We then add contact matrices using the ```add_contact_matrix``` method, which takes as input a 2D numpy array representing the contact matrix and a ```layer_name``` indicating the context of the contacts:"
   ]
  },
  {
   "cell_type": "code",
   "execution_count": null,
   "metadata": {},
   "outputs": [],
   "source": [
    "population.add_contact_matrix(pd.read_csv(\"../epydemix_data/Indonesia/contact_matrices/prem_2017/contacts_matrix_work.csv\", header=None).values, \n",
    "                              layer_name=\"work\")\n",
    "population.add_contact_matrix(pd.read_csv(\"../epydemix_data/Indonesia/contact_matrices/prem_2017/contacts_matrix_home.csv\", header=None).values,\n",
    "                              layer_name=\"home\")\n",
    "population.add_contact_matrix(pd.read_csv(\"../epydemix_data/Indonesia/contact_matrices/prem_2017/contacts_matrix_community.csv\", header=None).values,\n",
    "                              layer_name=\"community\")\n",
    "population.add_contact_matrix(pd.read_csv(\"../epydemix_data/Indonesia/contact_matrices/prem_2017/contacts_matrix_school.csv\", header=None).values,\n",
    "                              layer_name=\"school\")"
   ]
  },
  {
   "cell_type": "markdown",
   "metadata": {},
   "source": [
    "Similarly, we add demographic information using the ```add_population``` method, which takes as input a 1D numpy array representing the number of individuals in different age groups and a ```layer_name``` indicating names of groups:"
   ]
  },
  {
   "cell_type": "code",
   "execution_count": null,
   "metadata": {},
   "outputs": [],
   "source": [
    "population.add_population(Nk=pd.read_csv(\"../epydemix_data/Indonesia/demographic/age_distribution.csv\")[\"value\"].values, \n",
    "                          Nk_names=pd.read_csv(\"../epydemix_data/Indonesia/demographic/age_distribution.csv\")[\"group_name\"].values)"
   ]
  },
  {
   "cell_type": "markdown",
   "metadata": {},
   "source": [
    "We have now created a ```Population``` object and initialized its key attributes. \n",
    "\n",
    "Alternatively, after downloading the ```epydemix``` data package we can strealime the process and automatically import contact matrices and demographic information for a given country. \n",
    "\n",
    "The list of geographies supported and the data format is provided at XXX"
   ]
  },
  {
   "cell_type": "code",
   "execution_count": null,
   "metadata": {},
   "outputs": [],
   "source": [
    "population = load_population(population_name=\"Indonesia\")"
   ]
  },
  {
   "cell_type": "markdown",
   "metadata": {},
   "source": [
    "Finally, we can plot some information on the population using the ```plotting``` module of ```epydemix```:"
   ]
  },
  {
   "cell_type": "code",
   "execution_count": null,
   "metadata": {},
   "outputs": [],
   "source": [
    "from epydemix.visualization import plot_contact_matrix, plot_population"
   ]
  },
  {
   "cell_type": "markdown",
   "metadata": {},
   "source": [
    "First, we plot the contact matrices in the different settings:"
   ]
  },
  {
   "cell_type": "code",
   "execution_count": null,
   "metadata": {},
   "outputs": [],
   "source": [
    "fig, axes = plt.subplots(nrows=2, ncols=2, dpi=300)\n",
    "plot_contact_matrix(population, \"school\", ax=axes[0,0], labelsize=7)\n",
    "plot_contact_matrix(population, \"work\", ax=axes[0,1], labelsize=7)\n",
    "plot_contact_matrix(population, \"home\", ax=axes[1,0], labelsize=7)\n",
    "plot_contact_matrix(population, \"community\", ax=axes[1,1], labelsize=7)\n",
    "plt.tight_layout()"
   ]
  },
  {
   "cell_type": "markdown",
   "metadata": {},
   "source": [
    "Then, we plot the number and percentage of individuals in different age groups:"
   ]
  },
  {
   "cell_type": "code",
   "execution_count": null,
   "metadata": {},
   "outputs": [],
   "source": [
    "# raw numbers \n",
    "plot_population(population)\n",
    "\n",
    "# percentage\n",
    "plot_population(population, show_perc=True)"
   ]
  },
  {
   "cell_type": "code",
   "execution_count": null,
   "metadata": {},
   "outputs": [],
   "source": []
  }
 ],
 "metadata": {
  "kernelspec": {
   "display_name": "base",
   "language": "python",
   "name": "python3"
  },
  "language_info": {
   "codemirror_mode": {
    "name": "ipython",
    "version": 3
   },
   "file_extension": ".py",
   "mimetype": "text/x-python",
   "name": "python",
   "nbconvert_exporter": "python",
   "pygments_lexer": "ipython3",
   "version": "3.8.8"
  }
 },
 "nbformat": 4,
 "nbformat_minor": 2
}
