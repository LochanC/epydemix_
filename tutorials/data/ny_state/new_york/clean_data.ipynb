{
 "cells": [
  {
   "cell_type": "code",
   "execution_count": 1,
   "metadata": {},
   "outputs": [],
   "source": [
    "import pandas as pd\n",
    "import numpy as np\n",
    "import statistics as st\n"
   ]
  },
  {
   "cell_type": "markdown",
   "metadata": {},
   "source": [
    "## Epidemiological Data\n",
    "\n",
    "Source: https://www.nyc.gov/site/doh/covid/covid-19-data-totals.page\n",
    "\n",
    "(GitHub: \n",
    "\n",
    "- cases: https://raw.githubusercontent.com/nychealth/coronavirus-data/master/trends/cases-by-day.csv\n",
    "\n",
    "- deaths: https://raw.githubusercontent.com/nychealth/coronavirus-data/master/trends/deaths-by-day.csv\n",
    "\n",
    ")"
   ]
  },
  {
   "cell_type": "code",
   "execution_count": 23,
   "metadata": {},
   "outputs": [],
   "source": [
    "### cases\n",
    "cases = pd.read_csv(\"https://raw.githubusercontent.com/nychealth/coronavirus-data/master/trends/cases-by-day.csv\")\n",
    "cases = cases[[\"date_of_interest\", \"CASE_COUNT\"]]\n",
    "cases.rename(columns={\"date_of_interest\": \"date\", \n",
    "                      \"CASE_COUNT\": \"new_cases\"}, inplace=True)\n",
    "cases.date = pd.to_datetime(cases.date, format=\"%m/%d/%Y\")\n",
    "\n",
    "### deaths\n",
    "deaths = pd.read_csv(\"https://raw.githubusercontent.com/nychealth/coronavirus-data/master/trends/deaths-by-day.csv\")\n",
    "deaths = deaths[[\"date_of_interest\", \"DEATH_COUNT\"]]\n",
    "deaths.rename(columns={\"date_of_interest\": \"date\", \n",
    "                      \"DEATH_COUNT\": \"new_deaths\"}, inplace=True)\n",
    "deaths.date = pd.to_datetime(deaths.date, format=\"%m/%d/%Y\")\n",
    "\n",
    "### merge and save\n",
    "data = pd.merge(left=deaths, right=cases, how=\"outer\", on=\"date\")\n",
    "data.to_csv(\"./epi-data/epi_data.csv\", index=False)"
   ]
  },
  {
   "cell_type": "markdown",
   "metadata": {},
   "source": [
    "## Google Mobility Report\n",
    "\n",
    "Source: https://www.gstatic.com/covid19/mobility/Global_Mobility_Report.csv"
   ]
  },
  {
   "cell_type": "code",
   "execution_count": 2,
   "metadata": {},
   "outputs": [
    {
     "data": {
      "text/html": [
       "<div>\n",
       "<style scoped>\n",
       "    .dataframe tbody tr th:only-of-type {\n",
       "        vertical-align: middle;\n",
       "    }\n",
       "\n",
       "    .dataframe tbody tr th {\n",
       "        vertical-align: top;\n",
       "    }\n",
       "\n",
       "    .dataframe thead th {\n",
       "        text-align: right;\n",
       "    }\n",
       "</style>\n",
       "<table border=\"1\" class=\"dataframe\">\n",
       "  <thead>\n",
       "    <tr style=\"text-align: right;\">\n",
       "      <th></th>\n",
       "      <th>country_region_code</th>\n",
       "      <th>country_region</th>\n",
       "      <th>sub_region_1</th>\n",
       "      <th>sub_region_2</th>\n",
       "      <th>metro_area</th>\n",
       "      <th>iso_3166_2_code</th>\n",
       "      <th>census_fips_code</th>\n",
       "      <th>place_id</th>\n",
       "      <th>date</th>\n",
       "      <th>retail_and_recreation_percent_change_from_baseline</th>\n",
       "      <th>grocery_and_pharmacy_percent_change_from_baseline</th>\n",
       "      <th>parks_percent_change_from_baseline</th>\n",
       "      <th>transit_stations_percent_change_from_baseline</th>\n",
       "      <th>workplaces_percent_change_from_baseline</th>\n",
       "      <th>residential_percent_change_from_baseline</th>\n",
       "    </tr>\n",
       "  </thead>\n",
       "  <tbody>\n",
       "    <tr>\n",
       "      <th>0</th>\n",
       "      <td>US</td>\n",
       "      <td>United States</td>\n",
       "      <td>NaN</td>\n",
       "      <td>NaN</td>\n",
       "      <td>NaN</td>\n",
       "      <td>NaN</td>\n",
       "      <td>NaN</td>\n",
       "      <td>ChIJCzYy5IS16lQRQrfeQ5K5Oxw</td>\n",
       "      <td>2020-02-15</td>\n",
       "      <td>6.0</td>\n",
       "      <td>2.0</td>\n",
       "      <td>15.0</td>\n",
       "      <td>3.0</td>\n",
       "      <td>2.0</td>\n",
       "      <td>-1.0</td>\n",
       "    </tr>\n",
       "    <tr>\n",
       "      <th>1</th>\n",
       "      <td>US</td>\n",
       "      <td>United States</td>\n",
       "      <td>NaN</td>\n",
       "      <td>NaN</td>\n",
       "      <td>NaN</td>\n",
       "      <td>NaN</td>\n",
       "      <td>NaN</td>\n",
       "      <td>ChIJCzYy5IS16lQRQrfeQ5K5Oxw</td>\n",
       "      <td>2020-02-16</td>\n",
       "      <td>7.0</td>\n",
       "      <td>1.0</td>\n",
       "      <td>16.0</td>\n",
       "      <td>2.0</td>\n",
       "      <td>0.0</td>\n",
       "      <td>-1.0</td>\n",
       "    </tr>\n",
       "    <tr>\n",
       "      <th>2</th>\n",
       "      <td>US</td>\n",
       "      <td>United States</td>\n",
       "      <td>NaN</td>\n",
       "      <td>NaN</td>\n",
       "      <td>NaN</td>\n",
       "      <td>NaN</td>\n",
       "      <td>NaN</td>\n",
       "      <td>ChIJCzYy5IS16lQRQrfeQ5K5Oxw</td>\n",
       "      <td>2020-02-17</td>\n",
       "      <td>6.0</td>\n",
       "      <td>0.0</td>\n",
       "      <td>28.0</td>\n",
       "      <td>-9.0</td>\n",
       "      <td>-24.0</td>\n",
       "      <td>5.0</td>\n",
       "    </tr>\n",
       "    <tr>\n",
       "      <th>3</th>\n",
       "      <td>US</td>\n",
       "      <td>United States</td>\n",
       "      <td>NaN</td>\n",
       "      <td>NaN</td>\n",
       "      <td>NaN</td>\n",
       "      <td>NaN</td>\n",
       "      <td>NaN</td>\n",
       "      <td>ChIJCzYy5IS16lQRQrfeQ5K5Oxw</td>\n",
       "      <td>2020-02-18</td>\n",
       "      <td>0.0</td>\n",
       "      <td>-1.0</td>\n",
       "      <td>6.0</td>\n",
       "      <td>1.0</td>\n",
       "      <td>0.0</td>\n",
       "      <td>1.0</td>\n",
       "    </tr>\n",
       "    <tr>\n",
       "      <th>4</th>\n",
       "      <td>US</td>\n",
       "      <td>United States</td>\n",
       "      <td>NaN</td>\n",
       "      <td>NaN</td>\n",
       "      <td>NaN</td>\n",
       "      <td>NaN</td>\n",
       "      <td>NaN</td>\n",
       "      <td>ChIJCzYy5IS16lQRQrfeQ5K5Oxw</td>\n",
       "      <td>2020-02-19</td>\n",
       "      <td>2.0</td>\n",
       "      <td>0.0</td>\n",
       "      <td>8.0</td>\n",
       "      <td>1.0</td>\n",
       "      <td>1.0</td>\n",
       "      <td>0.0</td>\n",
       "    </tr>\n",
       "  </tbody>\n",
       "</table>\n",
       "</div>"
      ],
      "text/plain": [
       "  country_region_code country_region sub_region_1 sub_region_2  metro_area   \n",
       "0                  US  United States          NaN          NaN         NaN  \\\n",
       "1                  US  United States          NaN          NaN         NaN   \n",
       "2                  US  United States          NaN          NaN         NaN   \n",
       "3                  US  United States          NaN          NaN         NaN   \n",
       "4                  US  United States          NaN          NaN         NaN   \n",
       "\n",
       "  iso_3166_2_code  census_fips_code                     place_id        date   \n",
       "0             NaN               NaN  ChIJCzYy5IS16lQRQrfeQ5K5Oxw  2020-02-15  \\\n",
       "1             NaN               NaN  ChIJCzYy5IS16lQRQrfeQ5K5Oxw  2020-02-16   \n",
       "2             NaN               NaN  ChIJCzYy5IS16lQRQrfeQ5K5Oxw  2020-02-17   \n",
       "3             NaN               NaN  ChIJCzYy5IS16lQRQrfeQ5K5Oxw  2020-02-18   \n",
       "4             NaN               NaN  ChIJCzYy5IS16lQRQrfeQ5K5Oxw  2020-02-19   \n",
       "\n",
       "   retail_and_recreation_percent_change_from_baseline   \n",
       "0                                                6.0   \\\n",
       "1                                                7.0    \n",
       "2                                                6.0    \n",
       "3                                                0.0    \n",
       "4                                                2.0    \n",
       "\n",
       "   grocery_and_pharmacy_percent_change_from_baseline   \n",
       "0                                                2.0  \\\n",
       "1                                                1.0   \n",
       "2                                                0.0   \n",
       "3                                               -1.0   \n",
       "4                                                0.0   \n",
       "\n",
       "   parks_percent_change_from_baseline   \n",
       "0                                15.0  \\\n",
       "1                                16.0   \n",
       "2                                28.0   \n",
       "3                                 6.0   \n",
       "4                                 8.0   \n",
       "\n",
       "   transit_stations_percent_change_from_baseline   \n",
       "0                                            3.0  \\\n",
       "1                                            2.0   \n",
       "2                                           -9.0   \n",
       "3                                            1.0   \n",
       "4                                            1.0   \n",
       "\n",
       "   workplaces_percent_change_from_baseline   \n",
       "0                                      2.0  \\\n",
       "1                                      0.0   \n",
       "2                                    -24.0   \n",
       "3                                      0.0   \n",
       "4                                      1.0   \n",
       "\n",
       "   residential_percent_change_from_baseline  \n",
       "0                                      -1.0  \n",
       "1                                      -1.0  \n",
       "2                                       5.0  \n",
       "3                                       1.0  \n",
       "4                                       0.0  "
      ]
     },
     "execution_count": 2,
     "metadata": {},
     "output_type": "execute_result"
    }
   ],
   "source": [
    "df = pd.read_csv('../google-mob-raw/2020_US_Region_Mobility_Report.csv')\n",
    "df.head()"
   ]
  },
  {
   "cell_type": "code",
   "execution_count": 30,
   "metadata": {},
   "outputs": [
    {
     "name": "stderr",
     "output_type": "stream",
     "text": [
      "/var/folders/5q/w1ww7ss174bb2jxkr7jkj3rw0000gp/T/ipykernel_15532/3985916933.py:4: SettingWithCopyWarning: \n",
      "A value is trying to be set on a copy of a slice from a DataFrame\n",
      "\n",
      "See the caveats in the documentation: https://pandas.pydata.org/pandas-docs/stable/user_guide/indexing.html#returning-a-view-versus-a-copy\n",
      "  df_nyc.drop(\"sub_region_2\", axis=1, inplace=True)\n"
     ]
    }
   ],
   "source": [
    "df_nyc = df.loc[(df.sub_region_2.isin(['Queens County', 'New York County', 'Kings County', 'Richmond County', 'Bronx County'])) & \\\n",
    "                (df.sub_region_1 == \"New York\")]\n",
    "\n",
    "df_nyc.drop(\"sub_region_2\", axis=1, inplace=True)\n",
    "df_nyc = df_nyc.groupby(by=['date']).agg({'country_region_code': st.mode, \n",
    "                                            'country_region': st.mode, \n",
    "                                            'sub_region_1': st.mode,\n",
    "                                            'metro_area': st.mode,\n",
    "                                            'iso_3166_2_code': st.mode,\n",
    "                                            'census_fips_code': st.mode,\n",
    "                                            'place_id': st.mode,\n",
    "                                            'date': st.mode,\n",
    "                                            'retail_and_recreation_percent_change_from_baseline': \"mean\", \n",
    "                                            'grocery_and_pharmacy_percent_change_from_baseline': \"mean\", \n",
    "                                            'parks_percent_change_from_baseline': \"mean\", \n",
    "                                            'transit_stations_percent_change_from_baseline': \"mean\", \n",
    "                                            'workplaces_percent_change_from_baseline': \"mean\", \n",
    "                                            'residential_percent_change_from_baseline': \"mean\"})\n",
    "\n"
   ]
  },
  {
   "cell_type": "code",
   "execution_count": 31,
   "metadata": {},
   "outputs": [],
   "source": [
    "df_nyc = df_nyc[[ 'date',\n",
    "                        'retail_and_recreation_percent_change_from_baseline',\n",
    "                        'grocery_and_pharmacy_percent_change_from_baseline',\n",
    "                        'parks_percent_change_from_baseline',\n",
    "                        'transit_stations_percent_change_from_baseline',\n",
    "                        'workplaces_percent_change_from_baseline',\n",
    "                        'residential_percent_change_from_baseline']]\n",
    "df_nyc.reset_index(drop=True, inplace=True)\n",
    "df_nyc.date = pd.to_datetime(df_nyc.date)\n",
    "\n",
    "df_nyc.to_csv('./google-mobility-report/google_mobility_data.csv', index=False)"
   ]
  },
  {
   "cell_type": "markdown",
   "metadata": {},
   "source": [
    "## Population Data\n",
    "Source: https://data.census.gov/table?q=S0101&g=050XX00US36005,36061,36081,36085,36047"
   ]
  },
  {
   "cell_type": "code",
   "execution_count": 12,
   "metadata": {},
   "outputs": [
    {
     "data": {
      "text/html": [
       "<div>\n",
       "<style scoped>\n",
       "    .dataframe tbody tr th:only-of-type {\n",
       "        vertical-align: middle;\n",
       "    }\n",
       "\n",
       "    .dataframe tbody tr th {\n",
       "        vertical-align: top;\n",
       "    }\n",
       "\n",
       "    .dataframe thead th {\n",
       "        text-align: right;\n",
       "    }\n",
       "</style>\n",
       "<table border=\"1\" class=\"dataframe\">\n",
       "  <thead>\n",
       "    <tr style=\"text-align: right;\">\n",
       "      <th></th>\n",
       "      <th>Age Group</th>\n",
       "      <th>Total</th>\n",
       "    </tr>\n",
       "  </thead>\n",
       "  <tbody>\n",
       "    <tr>\n",
       "      <th>0</th>\n",
       "      <td>Under 5 years</td>\n",
       "      <td>472671</td>\n",
       "    </tr>\n",
       "    <tr>\n",
       "      <th>1</th>\n",
       "      <td>5 to 9 years</td>\n",
       "      <td>445677</td>\n",
       "    </tr>\n",
       "    <tr>\n",
       "      <th>2</th>\n",
       "      <td>10 to 14 years</td>\n",
       "      <td>485286</td>\n",
       "    </tr>\n",
       "    <tr>\n",
       "      <th>3</th>\n",
       "      <td>15 to 19 years</td>\n",
       "      <td>450637</td>\n",
       "    </tr>\n",
       "    <tr>\n",
       "      <th>4</th>\n",
       "      <td>20 to 24 years</td>\n",
       "      <td>520613</td>\n",
       "    </tr>\n",
       "  </tbody>\n",
       "</table>\n",
       "</div>"
      ],
      "text/plain": [
       "        Age Group   Total\n",
       "0   Under 5 years  472671\n",
       "1    5 to 9 years  445677\n",
       "2  10 to 14 years  485286\n",
       "3  15 to 19 years  450637\n",
       "4  20 to 24 years  520613"
      ]
     },
     "execution_count": 12,
     "metadata": {},
     "output_type": "execute_result"
    }
   ],
   "source": [
    "pop = pd.read_csv('./raw-data/ACSST1Y2022.S0101-2023-10-02T195537.csv')\n",
    "pop.head()"
   ]
  },
  {
   "cell_type": "code",
   "execution_count": 13,
   "metadata": {},
   "outputs": [
    {
     "name": "stdout",
     "output_type": "stream",
     "text": [
      "0    8.335897\n",
      "dtype: float64\n"
     ]
    }
   ],
   "source": [
    "populations = {'0-9': [pop.loc[pop[\"Age Group\"].isin(['Under 5 years','5 to 9 years'])].Total.sum()],\n",
    "               '10-19': [pop.loc[pop[\"Age Group\"].isin(['10 to 14 years', '15 to 19 years'])].Total.sum()],\n",
    "               '20-24': [pop.loc[pop[\"Age Group\"].isin(['20 to 24 years'])].Total.sum()],\n",
    "               '25-29': [pop.loc[pop[\"Age Group\"].isin(['25 to 29 years'])].Total.sum()],\n",
    "               '30-39': [pop.loc[pop[\"Age Group\"].isin(['30 to 34 years', '35 to 39 years'])].Total.sum()],\n",
    "               '40-49': [pop.loc[pop[\"Age Group\"].isin(['40 to 44 years', '45 to 49 years'])].Total.sum()],\n",
    "               '50-59': [pop.loc[pop[\"Age Group\"].isin(['50 to 54 years', '55 to 59 years'])].Total.sum()],\n",
    "               '60-69': [pop.loc[pop[\"Age Group\"].isin(['60 to 64 years', '65 to 69 years'])].Total.sum()],\n",
    "               '70-79': [pop.loc[pop[\"Age Group\"].isin(['70 to 74 years', '75 to 79 years'])].Total.sum()],\n",
    "               '80+': [pop.loc[pop[\"Age Group\"].isin(['80 to 84 years', '85 years and over'])].Total.sum()]}\n",
    "\n",
    "pop_grouped = pd.DataFrame(data=populations)\n",
    "print(pop_grouped.sum(axis=1) / 10**6)\n",
    "pop_grouped.to_csv('./population-data/pop_data_Nk.csv', index=False)"
   ]
  },
  {
   "attachments": {},
   "cell_type": "markdown",
   "metadata": {},
   "source": [
    "# Contact Matrix"
   ]
  },
  {
   "cell_type": "code",
   "execution_count": 1,
   "metadata": {},
   "outputs": [
    {
     "name": "stdout",
     "output_type": "stream",
     "text": [
      "13.72854395309837\n"
     ]
    }
   ],
   "source": [
    "import numpy as np \n",
    "\n",
    "# weights of different contacts matrices\n",
    "weight_home   = 4.11 \n",
    "weight_school = 11.41 \n",
    "weight_work   = 8.07 \n",
    "weight_comm   = 2.79 \n",
    "\n",
    "work = np.load(\"./contact_matrix/work.npz\")[\"arr_0\"]\n",
    "home = np.load(\"./contact_matrix/home.npz\")[\"arr_0\"]\n",
    "school = np.load(\"./contact_matrix/school.npz\")[\"arr_0\"]\n",
    "community = np.load(\"./contact_matrix/community.npz\")[\"arr_0\"]\n",
    "\n",
    "total = (weight_home * home) + (weight_school * school) + (weight_work * work) + (weight_comm * community)\n",
    "\n",
    "print(np.linalg.eigvals(total).real.max())\n",
    "np.savez_compressed(\"./contact_matrix/contact_matrix.npz\", total)"
   ]
  },
  {
   "cell_type": "code",
   "execution_count": null,
   "metadata": {},
   "outputs": [],
   "source": []
  }
 ],
 "metadata": {
  "kernelspec": {
   "display_name": "Python 3.8.8 ('base')",
   "language": "python",
   "name": "python3"
  },
  "language_info": {
   "codemirror_mode": {
    "name": "ipython",
    "version": 3
   },
   "file_extension": ".py",
   "mimetype": "text/x-python",
   "name": "python",
   "nbconvert_exporter": "python",
   "pygments_lexer": "ipython3",
   "version": "3.8.8"
  },
  "orig_nbformat": 4,
  "vscode": {
   "interpreter": {
    "hash": "40d3a090f54c6569ab1632332b64b2c03c39dcf918b08424e98f38b5ae0af88f"
   }
  }
 },
 "nbformat": 4,
 "nbformat_minor": 2
}
