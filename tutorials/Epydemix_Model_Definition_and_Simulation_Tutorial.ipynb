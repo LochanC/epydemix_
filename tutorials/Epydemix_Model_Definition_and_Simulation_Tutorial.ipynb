{
 "cells": [
  {
   "cell_type": "markdown",
   "id": "7545a088",
   "metadata": {},
   "source": [
    "\n",
    "# An Introduction to Model Definition and Simulation using Epydemix\n",
    "\n",
    "Welcome to this tutorial on **epydemix**, a Python library designed for epidemiological modeling and simulations. In this tutorial, we will guide you through the process of defining a simple epidemiological model and running simulations to explore how diseases spread over time.\n",
    "\n",
    "We will start by explaining the key concepts in epidemiological modeling, and then move on to hands-on examples using **epydemix**.\n",
    "\n",
    "Let’s begin by setting up our environment!\n"
   ]
  },
  {
   "cell_type": "markdown",
   "id": "da39aa22",
   "metadata": {},
   "source": [
    "\n",
    "## Installation\n",
    "\n",
    "First, if you haven’t already installed **epydemix**, you can do so by running the following command:\n"
   ]
  },
  {
   "cell_type": "code",
   "execution_count": null,
   "id": "7bff2790",
   "metadata": {},
   "outputs": [],
   "source": [
    "#!pip install epydemix"
   ]
  },
  {
   "cell_type": "markdown",
   "id": "c82e92ed",
   "metadata": {},
   "source": [
    "\n",
    "Now, let’s import the necessary modules.\n"
   ]
  },
  {
   "cell_type": "code",
   "execution_count": 1,
   "id": "87a4b8ba",
   "metadata": {},
   "outputs": [],
   "source": [
    "# Import the necessary components\n",
    "from epydemix import EpiModel\n",
    "from epydemix.visualization import plot_quantiles"
   ]
  },
  {
   "cell_type": "markdown",
   "id": "738769e9",
   "metadata": {},
   "source": [
    "## Understanding the Basics of Epidemiological Modeling\n",
    "\n",
    "Before diving into code, let’s quickly go over the basic structure of an epidemiological compartmental model.\n",
    "\n",
    "Compartmental models are used to describe how diseases spread through populations. These models divide the population into compartments, each representing a specific state in the progression of the disease. One of the simplest models is the **SIR model**, where:\n",
    "\n",
    "- **S** represents the susceptible individuals (those who can get infected).\n",
    "- **I** represents the infected individuals (those who are currently carrying the disease).\n",
    "- **R** represents the recovered individuals (those who have recovered and are immune).\n",
    "\n",
    "In compartmental models, individuals move between compartments through transitions, which are of two main types:\n",
    "\n",
    "- **Mediated Transitions**: These transitions occur due to interactions between individuals in different compartments. In the case of the SIR model, the transition from **S** (susceptible) to **I** (infected) is mediated by the presence of infected individuals. The rate at which susceptibles become infected depends on both the number of infected individuals and the transmission rate.\n",
    "  \n",
    "  For example, the transition from **S** to **I** happens at a rate proportional to:\n",
    "  ```\n",
    "  Transition rate = β × S × I\n",
    "  ```\n",
    "  where:\n",
    "  - **β** is the transmission rate,\n",
    "  - **S** is the number of susceptible individuals,\n",
    "  - **I** is the number of infected individuals.\n",
    "\n",
    "- **Spontaneous Transitions**: These transitions happen independently of interactions with other compartments. For instance, in the SIR model, the transition from **I** (infected) to **R** (recovered) is spontaneous because infected individuals recover based on a fixed recovery rate without needing to interact with any other compartment.\n",
    "  \n",
    "  This transition from **I** to **R** occurs at a rate proportional to:\n",
    "  ```\n",
    "  Transition rate = γ × I\n",
    "  ```\n",
    "  where:\n",
    "  - **γ** is the recovery rate,\n",
    "  - **I** is the number of infected individuals.\n",
    "\n",
    "The dynamics of the disease over time are shaped by these transitions, as individuals move between susceptible, infected, and recovered states.\n",
    "\n",
    "Now, let's see how we can define a simple SIR model using **epydemix**.\n"
   ]
  },
  {
   "cell_type": "markdown",
   "id": "ae2e447a",
   "metadata": {},
   "source": [
    "\n",
    "## Defining a Basic Model\n",
    "\n",
    "In **epydemix**, defining a model is as simple as specifying the compartments and parameters that govern the dynamics of disease transmission. Let’s start with a **Basic SIR Model**:\n"
   ]
  },
  {
   "cell_type": "code",
   "execution_count": 2,
   "id": "041132d7",
   "metadata": {},
   "outputs": [
    {
     "ename": "TypeError",
     "evalue": "__init__() got an unexpected keyword argument 'parameters'",
     "output_type": "error",
     "traceback": [
      "\u001b[0;31m---------------------------------------------------------------------------\u001b[0m",
      "\u001b[0;31mTypeError\u001b[0m                                 Traceback (most recent call last)",
      "Cell \u001b[0;32mIn[2], line 2\u001b[0m\n\u001b[1;32m      1\u001b[0m \u001b[38;5;66;03m# Defining a basic SIR model\u001b[39;00m\n\u001b[0;32m----> 2\u001b[0m sir_model \u001b[38;5;241m=\u001b[39m \u001b[43mEpiModel\u001b[49m\u001b[43m(\u001b[49m\n\u001b[1;32m      3\u001b[0m \u001b[43m    \u001b[49m\u001b[43mname\u001b[49m\u001b[38;5;241;43m=\u001b[39;49m\u001b[38;5;124;43m'\u001b[39;49m\u001b[38;5;124;43mSIR Model\u001b[39;49m\u001b[38;5;124;43m'\u001b[39;49m\u001b[43m,\u001b[49m\n\u001b[1;32m      4\u001b[0m \u001b[43m    \u001b[49m\u001b[43mcompartments\u001b[49m\u001b[38;5;241;43m=\u001b[39;49m\u001b[43m[\u001b[49m\u001b[38;5;124;43m'\u001b[39;49m\u001b[38;5;124;43mS\u001b[39;49m\u001b[38;5;124;43m'\u001b[39;49m\u001b[43m,\u001b[49m\u001b[43m \u001b[49m\u001b[38;5;124;43m'\u001b[39;49m\u001b[38;5;124;43mI\u001b[39;49m\u001b[38;5;124;43m'\u001b[39;49m\u001b[43m,\u001b[49m\u001b[43m \u001b[49m\u001b[38;5;124;43m'\u001b[39;49m\u001b[38;5;124;43mR\u001b[39;49m\u001b[38;5;124;43m'\u001b[39;49m\u001b[43m]\u001b[49m\u001b[43m,\u001b[49m\u001b[43m  \u001b[49m\u001b[38;5;66;43;03m# Susceptible, Infected, Recovered\u001b[39;49;00m\n\u001b[1;32m      5\u001b[0m \u001b[43m    \u001b[49m\u001b[43mparameters\u001b[49m\u001b[38;5;241;43m=\u001b[39;49m\u001b[43m{\u001b[49m\n\u001b[1;32m      6\u001b[0m \u001b[43m        \u001b[49m\u001b[38;5;124;43m'\u001b[39;49m\u001b[38;5;124;43mbeta\u001b[39;49m\u001b[38;5;124;43m'\u001b[39;49m\u001b[43m:\u001b[49m\u001b[43m \u001b[49m\u001b[38;5;241;43m0.3\u001b[39;49m\u001b[43m,\u001b[49m\u001b[43m  \u001b[49m\u001b[38;5;66;43;03m# Transmission rate\u001b[39;49;00m\n\u001b[1;32m      7\u001b[0m \u001b[43m        \u001b[49m\u001b[38;5;124;43m'\u001b[39;49m\u001b[38;5;124;43mgamma\u001b[39;49m\u001b[38;5;124;43m'\u001b[39;49m\u001b[43m:\u001b[49m\u001b[43m \u001b[49m\u001b[38;5;241;43m0.1\u001b[39;49m\u001b[43m  \u001b[49m\u001b[38;5;66;43;03m# Recovery rate\u001b[39;49;00m\n\u001b[1;32m      8\u001b[0m \u001b[43m    \u001b[49m\u001b[43m}\u001b[49m\n\u001b[1;32m      9\u001b[0m \u001b[43m)\u001b[49m\n",
      "\u001b[0;31mTypeError\u001b[0m: __init__() got an unexpected keyword argument 'parameters'"
     ]
    }
   ],
   "source": [
    "# Defining a basic SIR model\n",
    "sir_model = EpiModel(\n",
    "    name='SIR Model',\n",
    "    compartments=['S', 'I', 'R'],  # Susceptible, Infected, Recovered\n",
    "    parameters={\n",
    "        'beta': 0.3,  # Transmission rate\n",
    "        'gamma': 0.1  # Recovery rate\n",
    "    }\n",
    ")\n"
   ]
  },
  {
   "cell_type": "markdown",
   "id": "bac311fc",
   "metadata": {},
   "source": [
    "\n",
    "## Initializing a Simulation\n",
    "\n",
    "Now that we’ve defined our model, it’s time to set up a simulation. A simulation in **epydemix** requires:\n",
    "- **Initial conditions**: This describes how many individuals start in each compartment at the beginning of the simulation.\n",
    "- **Time steps**: The duration for which we want to simulate the epidemic.\n",
    "\n",
    "Let's set up a simulation where 990 people start off susceptible, 10 people are infected, and no one has recovered yet.\n"
   ]
  },
  {
   "cell_type": "code",
   "execution_count": null,
   "id": "039e8781",
   "metadata": {},
   "outputs": [],
   "source": [
    "# Initial conditions\n",
    "initial_conditions = {\n",
    "    'S': 990,  # 990 people are susceptible\n",
    "    'I': 10,   # 10 people are initially infected\n",
    "    'R': 0     # 0 people have recovered at the start\n",
    "}\n",
    "\n",
    "# Creating the simulation\n",
    "sir_simulation = Simulation(\n",
    "    model=sir_model,\n",
    "    initial_conditions=initial_conditions,\n",
    "    time_steps=100  # We will simulate the epidemic over 100 time steps\n",
    ")\n"
   ]
  },
  {
   "cell_type": "markdown",
   "id": "fe44ed70",
   "metadata": {},
   "source": [
    "\n",
    "## Running the Simulation\n",
    "\n",
    "With the model and simulation initialized, we can now run the simulation and observe the results. The results will show how the number of susceptible, infected, and recovered individuals changes over time.\n"
   ]
  },
  {
   "cell_type": "code",
   "execution_count": null,
   "id": "be2ae1d1",
   "metadata": {},
   "outputs": [],
   "source": [
    "# Running the simulation\n",
    "results = sir_simulation.run()\n",
    "\n",
    "# Let's take a quick look at the results\n",
    "print(results.head())  # Display the first few rows of the results\n"
   ]
  },
  {
   "cell_type": "markdown",
   "id": "2bda7ac8",
   "metadata": {},
   "source": [
    "\n",
    "## Visualizing the Results\n",
    "\n",
    "**Epydemix** comes with built-in visualization tools that make it easy to see how the simulation progresses. Let’s create a plot to visualize the evolution of the compartments over time.\n"
   ]
  },
  {
   "cell_type": "code",
   "execution_count": null,
   "id": "e4b6cedd",
   "metadata": {},
   "outputs": [],
   "source": [
    "# Visualizing the simulation results\n",
    "plotting.plot_simulation_results(results)\n"
   ]
  },
  {
   "cell_type": "markdown",
   "id": "3eed81fe",
   "metadata": {},
   "source": [
    "\n",
    "## Exploring Model Customizations\n",
    "\n",
    "Now that we have a basic model running, we can start customizing it to explore different scenarios. For example, we could extend the model to include additional compartments, such as vaccinated individuals, or adjust the transmission and recovery rates.\n",
    "\n",
    "Let’s see how we could add a **vaccination compartment** to our model.\n"
   ]
  },
  {
   "cell_type": "code",
   "execution_count": null,
   "id": "e7ba6026",
   "metadata": {},
   "outputs": [],
   "source": [
    "# Extending the model to include vaccination\n",
    "sirv_model = Model(\n",
    "    name='SIRV Model',\n",
    "    compartments=['S', 'I', 'R', 'V'],  # Adding vaccinated compartment\n",
    "    parameters={\n",
    "        'beta': 0.3,\n",
    "        'gamma': 0.1,\n",
    "        'vaccination_rate': 0.05  # New vaccination rate parameter\n",
    "    }\n",
    ")\n"
   ]
  },
  {
   "cell_type": "markdown",
   "id": "25e8574c",
   "metadata": {},
   "source": [
    "\n",
    "## Conclusion\n",
    "\n",
    "Congratulations! You have successfully defined and simulated an epidemiological model using **epydemix**. You now know how to:\n",
    "- Define a simple epidemiological model (SIR).\n",
    "- Set up initial conditions and run a simulation.\n",
    "- Visualize the results and interpret the disease dynamics.\n",
    "- Extend the model to include additional compartments like vaccination.\n",
    "\n",
    "From here, you can experiment with different model configurations and simulations, such as adjusting the transmission rate, adding more compartments, or testing different scenarios.\n",
    "\n",
    "## Further Exploration\n",
    "- Experiment with different values for `beta` and `gamma` to see how they affect the dynamics.\n",
    "- Try adding a birth and death rate to your model.\n",
    "- Explore how different vaccination rates impact the spread of the disease.\n"
   ]
  }
 ],
 "metadata": {
  "kernelspec": {
   "display_name": "base",
   "language": "python",
   "name": "python3"
  },
  "language_info": {
   "codemirror_mode": {
    "name": "ipython",
    "version": 3
   },
   "file_extension": ".py",
   "mimetype": "text/x-python",
   "name": "python",
   "nbconvert_exporter": "python",
   "pygments_lexer": "ipython3",
   "version": "3.8.8"
  }
 },
 "nbformat": 4,
 "nbformat_minor": 5
}
