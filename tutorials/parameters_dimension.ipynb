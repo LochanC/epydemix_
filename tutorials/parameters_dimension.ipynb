{
 "cells": [
  {
   "cell_type": "code",
   "execution_count": 1,
   "metadata": {},
   "outputs": [],
   "source": [
    "import numpy as np \n",
    "# Epydemix import\n",
    "import sys\n",
    "sys.path.append(\"../\")\n",
    "from epydemix.epimodel import EpiModel\n",
    "from epydemix.plotting import plot_quantiles, plot_spectral_radius\n",
    "from epydemix.utils import create_definitions, convert_to_2Darray, evaluate, compute_days"
   ]
  },
  {
   "cell_type": "code",
   "execution_count": 2,
   "metadata": {},
   "outputs": [
    {
     "data": {
      "text/plain": [
       "array([[0.03, 0.03, 0.03, ..., 0.03, 0.03, 0.03],\n",
       "       [0.03, 0.03, 0.03, ..., 0.03, 0.03, 0.03],\n",
       "       [0.03, 0.03, 0.03, ..., 0.03, 0.03, 0.03],\n",
       "       ...,\n",
       "       [0.03, 0.03, 0.03, ..., 0.03, 0.03, 0.03],\n",
       "       [0.03, 0.03, 0.03, ..., 0.03, 0.03, 0.03],\n",
       "       [0.03, 0.03, 0.03, ..., 0.03, 0.03, 0.03]])"
      ]
     },
     "execution_count": 2,
     "metadata": {},
     "output_type": "execute_result"
    }
   ],
   "source": [
    "start_date, end_date = \"2019-12-01\", \"2020-04-01\"\n",
    "T = compute_days(start_date, end_date)\n",
    "\n",
    "# Simulation\n",
    "# create model \n",
    "model = EpiModel(compartments=[\"S\", \"I\", \"R\"], population_data_path=\"../epydemix_data/Indonesia/\", population_name=\"Indonesia\")\n",
    "\n",
    "# define parameters\n",
    "model.add_parameter(name=\"beta\", value=0.03)\n",
    "model.add_parameter(name=\"mu\", value=0.2)\n",
    "\n",
    "# add transitions \n",
    "model.add_transition(source=\"S\", target=\"I\", rate=\"beta\", agent=\"I\")\n",
    "model.add_transition(source=\"I\", target=\"R\", rate=\"mu\")\n",
    "\n",
    "# model definitions \n",
    "model.definitions = create_definitions(model.parameters, T, n_age=model.population.Nk.shape[0])\n",
    "model.definitions[\"beta\"]"
   ]
  },
  {
   "cell_type": "code",
   "execution_count": 3,
   "metadata": {},
   "outputs": [
    {
     "name": "stdout",
     "output_type": "stream",
     "text": [
      "[0.03 0.03 0.03 0.03 0.03 0.03 0.03 0.03 0.03 0.03 0.03 0.03 0.03 0.03\n",
      " 0.03 0.03]\n",
      "[0.03 0.03 0.03 0.03 0.03 0.03 0.03 0.03 0.03 0.03 0.03 0.03 0.03 0.03\n",
      " 0.03 0.03]\n",
      "[0.03 0.03 0.03 0.03 0.03 0.03 0.03 0.03 0.03 0.03 0.03 0.03 0.03 0.03\n",
      " 0.03 0.03]\n",
      "[0.03 0.03 0.03 0.03 0.03 0.03 0.03 0.03 0.03 0.03 0.03 0.03 0.03 0.03\n",
      " 0.03 0.03]\n",
      "\t 0 0.03\n",
      "\t 1 1.6700566621574223e-08\n",
      "\t 2 1.6700566621574223e-08\n",
      "\t 3 1.6700566621574223e-08\n",
      "\t 4 1.6700566621574223e-08\n",
      "\t 5 1.6700566621574223e-08\n",
      "\t 6 1.6700566621574223e-08\n",
      "\t 7 1.6700566621574223e-08\n",
      "\t 8 1.6700566621574223e-08\n",
      "\t 9 1.6700566621574223e-08\n",
      "\t 10 1.6700566621574223e-08\n",
      "\t 11 1.6700566621574223e-08\n",
      "\t 12 1.6700566621574223e-08\n",
      "\t 13 1.6700566621574223e-08\n",
      "\t 14 1.6700566621574223e-08\n",
      "\t 15 1.6700566621574223e-08\n",
      "\t 16 1.6700566621574223e-08\n",
      "\t 17 1.6700566621574223e-08\n",
      "\t 18 1.6700566621574223e-08\n",
      "\t 19 1.6700566621574223e-08\n",
      "\t 20 1.6700566621574223e-08\n",
      "\t 21 1.6700566621574223e-08\n",
      "\t 22 1.6700566621574223e-08\n",
      "\t 23 1.6700566621574223e-08\n",
      "\t 24 1.6700566621574223e-08\n",
      "\t 25 1.6700566621574223e-08\n",
      "\t 26 1.6700566621574223e-08\n",
      "\t 27 1.6700566621574223e-08\n",
      "\t 28 1.6700566621574223e-08\n",
      "\t 29 1.6700566621574223e-08\n",
      "\t 30 1.6700566621574223e-08\n",
      "\t 31 1.6700566621574223e-08\n",
      "\t 32 1.6700566621574223e-08\n",
      "\t 33 1.6700566621574223e-08\n",
      "\t 34 1.6700566621574223e-08\n",
      "\t 35 1.6700566621574223e-08\n",
      "\t 36 1.6700566621574223e-08\n",
      "\t 37 1.6700566621574223e-08\n",
      "\t 38 1.6700566621574223e-08\n",
      "\t 39 1.6700566621574223e-08\n",
      "\t 40 1.6700566621574223e-08\n",
      "\t 41 1.6700566621574223e-08\n",
      "\t 42 1.6700566621574223e-08\n",
      "\t 43 1.6700566621574223e-08\n",
      "\t 44 1.6700566621574223e-08\n",
      "\t 45 1.6700566621574223e-08\n",
      "\t 46 1.6700566621574223e-08\n",
      "\t 47 1.6700566621574223e-08\n",
      "\t 48 1.6700566621574223e-08\n",
      "\t 49 1.6700566621574223e-08\n",
      "\t 50 1.6700566621574223e-08\n",
      "\t 51 1.6700566621574223e-08\n",
      "\t 52 1.6700566621574223e-08\n",
      "\t 53 1.6700566621574223e-08\n",
      "\t 54 1.6700566621574223e-08\n",
      "\t 55 1.6700566621574223e-08\n",
      "\t 56 1.6700566621574223e-08\n",
      "\t 57 1.6700566621574223e-08\n",
      "\t 58 1.6700566621574223e-08\n",
      "\t 59 1.6700566621574223e-08\n",
      "\t 60 1.6700566621574223e-08\n",
      "\t 61 1.6700566621574223e-08\n",
      "\t 62 1.6700566621574223e-08\n",
      "\t 63 1.6700566621574223e-08\n",
      "\t 64 1.6700566621574223e-08\n",
      "\t 65 1.6700566621574223e-08\n",
      "\t 66 1.6700566621574223e-08\n",
      "\t 67 1.6700566621574223e-08\n",
      "\t 68 1.6700566621574223e-08\n",
      "\t 69 1.6700566621574223e-08\n",
      "\t 70 1.6700566621574223e-08\n",
      "\t 71 1.6700566621574223e-08\n",
      "\t 72 1.6700566621574223e-08\n",
      "\t 73 1.6700566621574223e-08\n",
      "\t 74 1.6700566621574223e-08\n",
      "\t 75 1.6700566621574223e-08\n",
      "\t 76 1.6700566621574223e-08\n",
      "\t 77 1.6700566621574223e-08\n",
      "\t 78 1.6700566621574223e-08\n",
      "\t 79 1.6700566621574223e-08\n",
      "\t 80 1.6700566621574223e-08\n",
      "\t 81 1.6700566621574223e-08\n",
      "\t 82 1.6700566621574223e-08\n",
      "\t 83 1.6700566621574223e-08\n",
      "\t 84 1.6700566621574223e-08\n",
      "\t 85 1.6700566621574223e-08\n",
      "\t 86 1.6700566621574223e-08\n",
      "\t 87 1.6700566621574223e-08\n",
      "\t 88 1.6700566621574223e-08\n",
      "\t 89 1.6700566621574223e-08\n",
      "\t 90 1.6700566621574223e-08\n",
      "\t 91 1.6700566621574223e-08\n",
      "\t 92 1.6700566621574223e-08\n",
      "\t 93 1.6700566621574223e-08\n",
      "\t 94 1.6700566621574223e-08\n",
      "\t 95 1.6700566621574223e-08\n",
      "\t 96 1.6700566621574223e-08\n",
      "\t 97 1.6700566621574223e-08\n",
      "\t 98 1.6700566621574223e-08\n",
      "\t 99 1.6700566621574223e-08\n",
      "\t 100 1.6700566621574223e-08\n",
      "\t 101 1.6700566621574223e-08\n",
      "\t 102 1.6700566621574223e-08\n",
      "\t 103 1.6700566621574223e-08\n",
      "\t 104 1.6700566621574223e-08\n",
      "\t 105 1.6700566621574223e-08\n",
      "\t 106 1.6700566621574223e-08\n",
      "\t 107 1.6700566621574223e-08\n",
      "\t 108 1.6700566621574223e-08\n",
      "\t 109 1.6700566621574223e-08\n",
      "\t 110 1.6700566621574223e-08\n",
      "\t 111 1.6700566621574223e-08\n",
      "\t 112 1.6700566621574223e-08\n",
      "\t 113 1.6700566621574223e-08\n",
      "\t 114 1.6700566621574223e-08\n",
      "\t 115 1.6700566621574223e-08\n",
      "\t 116 1.6700566621574223e-08\n",
      "\t 117 1.6700566621574223e-08\n",
      "\t 118 1.6700566621574223e-08\n",
      "\t 119 1.6700566621574223e-08\n",
      "\t 120 1.6700566621574223e-08\n",
      "\t 121 1.6700566621574223e-08\n",
      "\t 122 1.6700566621574223e-08\n",
      "[1.67005666e-08 2.23253779e-08 2.94814398e-08 3.75155519e-08\n",
      " 2.64839005e-08 2.46645321e-08 2.41016029e-08 2.38567643e-08\n",
      " 2.23861195e-08 1.86649514e-08 2.01374010e-08 1.75052769e-08\n",
      " 1.25263702e-08 8.54110898e-09 7.46432079e-09 7.25596979e-09]\n",
      "\n",
      "\n",
      "\n"
     ]
    }
   ],
   "source": [
    "results = model.run_simulations(start_date=start_date, \n",
    "                                end_date=end_date, \n",
    "                                S=model.population.Nk - np.ones(len(model.population.Nk)),\n",
    "                                I=np.ones(len(model.population.Nk)),\n",
    "                                steps=\"daily\", \n",
    "                                Nsim=1)"
   ]
  },
  {
   "cell_type": "code",
   "execution_count": null,
   "metadata": {},
   "outputs": [],
   "source": [
    "plot_quantiles(results, columns=[\"I_total\", \"S_total\", \"R_total\"])"
   ]
  },
  {
   "cell_type": "code",
   "execution_count": null,
   "metadata": {},
   "outputs": [],
   "source": [
    "model.definitions"
   ]
  },
  {
   "cell_type": "code",
   "execution_count": null,
   "metadata": {},
   "outputs": [],
   "source": []
  },
  {
   "cell_type": "code",
   "execution_count": null,
   "metadata": {},
   "outputs": [],
   "source": []
  },
  {
   "cell_type": "code",
   "execution_count": null,
   "metadata": {},
   "outputs": [],
   "source": []
  },
  {
   "cell_type": "code",
   "execution_count": null,
   "metadata": {},
   "outputs": [],
   "source": []
  },
  {
   "cell_type": "code",
   "execution_count": null,
   "metadata": {},
   "outputs": [],
   "source": [
    "# create model \n",
    "model = EpiModel(compartments=[\"S\", \"I\", \"R\"], population_data_path=\"../epydemix_data/Indonesia/\", population_name=\"Indonesia\")"
   ]
  },
  {
   "cell_type": "code",
   "execution_count": null,
   "metadata": {},
   "outputs": [],
   "source": [
    "# Scalar parameters\n",
    "model.add_parameter(name=\"beta\", value=0.04)\n",
    "definitions = create_definitions(model.parameters, T=100, n_age=model.population.Nk.shape[0])\n",
    "\n",
    "print(definitions[\"beta\"].shape)\n",
    "definitions"
   ]
  },
  {
   "cell_type": "code",
   "execution_count": null,
   "metadata": {},
   "outputs": [],
   "source": [
    "# Time-varying parameter with wrong length\n",
    "model.add_parameter(name=\"beta\", value=np.random.uniform(0.01, 0.1, 80))\n",
    "definitions = create_definitions(model.parameters, T=100, n_age=model.population.Nk.shape[0])\n",
    "\n",
    "print(definitions[\"beta\"].shape)\n",
    "definitions"
   ]
  },
  {
   "cell_type": "code",
   "execution_count": null,
   "metadata": {},
   "outputs": [],
   "source": [
    "# Time-varying parameter with correct length\n",
    "model.add_parameter(name=\"beta\", value=np.random.uniform(0.01, 0.1, 100))\n",
    "definitions = create_definitions(model.parameters, T=100, n_age=model.population.Nk.shape[0])\n",
    "\n",
    "print(definitions[\"beta\"].shape)\n",
    "definitions"
   ]
  },
  {
   "cell_type": "code",
   "execution_count": null,
   "metadata": {},
   "outputs": [],
   "source": [
    "# Age-varying parameter with correct length\n",
    "beta = np.random.uniform(0.01, 0.1, 16)\n",
    "beta = convert_to_2Darray(beta)   # equivalent to np.random.uniform(0.01, 0.1, (1, 16))\n",
    "model.add_parameter(name=\"beta\", value=beta)\n",
    "definitions = create_definitions(model.parameters, T=100, n_age=model.population.Nk.shape[0])\n",
    "\n",
    "print(definitions[\"beta\"].shape)\n",
    "definitions"
   ]
  },
  {
   "cell_type": "code",
   "execution_count": null,
   "metadata": {},
   "outputs": [],
   "source": [
    "# Age and time-varying parameter with correct length\n",
    "model.add_parameter(name=\"beta\", value= np.random.uniform(0.01, 0.1, size=(100, 16)))\n",
    "definitions = create_definitions(model.parameters, T=100, n_age=model.population.Nk.shape[0])\n",
    "\n",
    "print(definitions[\"beta\"].shape)\n",
    "definitions"
   ]
  },
  {
   "cell_type": "code",
   "execution_count": null,
   "metadata": {},
   "outputs": [],
   "source": []
  },
  {
   "cell_type": "code",
   "execution_count": null,
   "metadata": {},
   "outputs": [],
   "source": [
    "model.definitions = create_definitions(model.parameters, T=100, n_age=model.population.Nk.shape[0])\n",
    "model.definitions[\"beta\"]"
   ]
  },
  {
   "cell_type": "code",
   "execution_count": null,
   "metadata": {},
   "outputs": [],
   "source": []
  },
  {
   "cell_type": "code",
   "execution_count": null,
   "metadata": {},
   "outputs": [],
   "source": []
  },
  {
   "cell_type": "code",
   "execution_count": null,
   "metadata": {},
   "outputs": [],
   "source": [
    "initial_definitions = create_definitions(model.parameters, T=100, n_age=model.population.Nk.shape[0])\n",
    "np.any(model.definitions[\"beta\"] != initial_definitions[\"beta\"])"
   ]
  },
  {
   "cell_type": "code",
   "execution_count": null,
   "metadata": {},
   "outputs": [],
   "source": [
    "model.definitions[\"beta\"][0]"
   ]
  },
  {
   "cell_type": "code",
   "execution_count": null,
   "metadata": {},
   "outputs": [],
   "source": []
  },
  {
   "cell_type": "code",
   "execution_count": null,
   "metadata": {},
   "outputs": [],
   "source": []
  },
  {
   "cell_type": "code",
   "execution_count": null,
   "metadata": {},
   "outputs": [],
   "source": [
    "# Before the loop\n",
    "parameters = model.definitions\n",
    "import copy\n",
    "original_parameters = copy.deepcopy(parameters)\n",
    "print(f\"Original parameters at start: {original_parameters}\")\n",
    "\n",
    "# Inside the loop after calling `evaluate`\n",
    "for tr in model.transitions[\"S\"]:\n",
    "    rate = evaluate(expr=tr.rate, env=parameters)\n",
    "    print(f\"Parameters after evaluate: {parameters}\")\n",
    "\n"
   ]
  },
  {
   "cell_type": "code",
   "execution_count": null,
   "metadata": {},
   "outputs": [],
   "source": []
  },
  {
   "cell_type": "code",
   "execution_count": null,
   "metadata": {},
   "outputs": [],
   "source": []
  }
 ],
 "metadata": {
  "kernelspec": {
   "display_name": "base",
   "language": "python",
   "name": "python3"
  },
  "language_info": {
   "codemirror_mode": {
    "name": "ipython",
    "version": 3
   },
   "file_extension": ".py",
   "mimetype": "text/x-python",
   "name": "python",
   "nbconvert_exporter": "python",
   "pygments_lexer": "ipython3",
   "version": "3.8.8"
  }
 },
 "nbformat": 4,
 "nbformat_minor": 2
}
