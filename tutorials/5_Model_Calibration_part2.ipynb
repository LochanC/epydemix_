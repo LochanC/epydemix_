{
 "cells": [
  {
   "cell_type": "code",
   "execution_count": null,
   "metadata": {},
   "outputs": [],
   "source": [
    "# deep dive on ABC-SMC\n",
    "# generations \n",
    "# projections\n",
    "# calibration with external models"
   ]
  },
  {
   "cell_type": "code",
   "execution_count": null,
   "metadata": {},
   "outputs": [],
   "source": []
  },
  {
   "cell_type": "code",
   "execution_count": null,
   "metadata": {},
   "outputs": [],
   "source": []
  },
  {
   "cell_type": "code",
   "execution_count": null,
   "metadata": {},
   "outputs": [],
   "source": []
  },
  {
   "cell_type": "code",
   "execution_count": null,
   "metadata": {},
   "outputs": [],
   "source": []
  },
  {
   "cell_type": "code",
   "execution_count": null,
   "metadata": {},
   "outputs": [],
   "source": []
  },
  {
   "cell_type": "code",
   "execution_count": null,
   "metadata": {},
   "outputs": [],
   "source": [
    "import matplotlib.pyplot as plt\n",
    "import numpy as np\n",
    "import seaborn as sns\n",
    "import pandas as pd\n",
    "from typing import List, Optional, Union, Any\n",
    "\n",
    "\n",
    "\n",
    "\n",
    "colors = sns.color_palette(\"Blues\", n_colors=6)\n",
    "fig, ax = plt.subplots(dpi=300)\n",
    "for generation in [0,1,2,3,4,5]: \n",
    "    plot_posterior_distribution(results_abc_smc, generation=generation, parameter=\"transmission_rate\", ax=ax, kind=\"kde\", prior_range=False, color=colors[generation], label=\"Generation %d\" % generation)"
   ]
  }
 ],
 "metadata": {
  "kernelspec": {
   "display_name": "base",
   "language": "python",
   "name": "python3"
  },
  "language_info": {
   "name": "python",
   "version": "3.8.8"
  }
 },
 "nbformat": 4,
 "nbformat_minor": 2
}
